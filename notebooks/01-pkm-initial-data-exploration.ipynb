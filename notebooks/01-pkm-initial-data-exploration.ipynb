{
 "cells": [
  {
   "cell_type": "markdown",
   "id": "07f1bf76-876d-4363-839d-94da0624997e",
   "metadata": {},
   "source": [
    "# `Zomato Bangalore Restaurants: 01 - Initial Data Exploration & Cleaning`\n",
    "\n",
    "**Objective:** To perform an initial reconnaissance of the 512MB Zomato dataset. The goals are to:\n",
    "1.  Understand the basic structure, data types, and memory usage.\n",
    "2.  Identify the extent of missing data and formulate a cleaning strategy.\n",
    "3.  Get a first look at the key numerical and categorical features."
   ]
  },
  {
   "cell_type": "code",
   "execution_count": 1,
   "id": "8e1c254d-9c58-4c4c-8354-6ed5466520b2",
   "metadata": {
    "execution": {
     "iopub.execute_input": "2025-09-19T05:44:57.919984Z",
     "iopub.status.busy": "2025-09-19T05:44:57.919751Z",
     "iopub.status.idle": "2025-09-19T05:45:03.035465Z",
     "shell.execute_reply": "2025-09-19T05:45:03.034875Z",
     "shell.execute_reply.started": "2025-09-19T05:44:57.919965Z"
    }
   },
   "outputs": [
    {
     "name": "stdout",
     "output_type": "stream",
     "text": [
      "\u001b[32m2025-09-19 11:15:03\u001b[0m | \u001b[1mINFO    \u001b[0m | \u001b[36m__main__\u001b[0m:\u001b[36m<module>\u001b[0m:\u001b[36m71\u001b[0m - \u001b[1m✅ All libraries imported and configurations set successfully!\u001b[0m\n"
     ]
    }
   ],
   "source": [
    "# --- 1. CORE LIBRARIES ---\n",
    "import os\n",
    "import sys\n",
    "import warnings\n",
    "\n",
    "# --- 2. DATA HANDLING & ANALYSIS ---\n",
    "import pandas as pd\n",
    "import numpy as np\n",
    "\n",
    "# --- 3. VISUALIZATION ---\n",
    "import matplotlib.pyplot as plt\n",
    "import seaborn as sns\n",
    "import plotly.express as px\n",
    "from wordcloud import WordCloud\n",
    "\n",
    "# --- 4. NLP ---\n",
    "import nltk\n",
    "import spacy\n",
    "\n",
    "# --- 5. PREPROCESSING & MODELING ---\n",
    "from sklearn.model_selection import train_test_split, StratifiedKFold, cross_val_score\n",
    "from sklearn.preprocessing import StandardScaler, PowerTransformer, LabelEncoder\n",
    "from sklearn.metrics import accuracy_score, f1_score, classification_report, confusion_matrix\n",
    "# Add other specific models or metrics as needed, e.g., from sklearn.linear_model import LogisticRegression\n",
    "\n",
    "# --- 6. ADVANCED MODELING (BOOSTING) ---\n",
    "import xgboost as xgb\n",
    "import lightgbm as lgb\n",
    "import catboost as cat\n",
    "\n",
    "# --- 7. MLOPS & EXPERIMENTATION ---\n",
    "import mlflow\n",
    "import optuna\n",
    "\n",
    "# --- 8. UTILITIES ---\n",
    "from loguru import logger\n",
    "from tqdm.auto import tqdm\n",
    "\n",
    "\n",
    "# ===================================================================\n",
    "#                      CONFIGURATION\n",
    "# ===================================================================\n",
    "\n",
    "# --- 1. PANDAS SETTINGS ---\n",
    "# Makes DataFrame outputs look professional\n",
    "pd.set_option(\"display.max_columns\", None)\n",
    "pd.set_option(\"display.max_rows\", 100)\n",
    "pd.set_option(\"display.width\", 1000)\n",
    "# Formats floats to 2 decimal places with comma separators (e.g., 1,234.56)\n",
    "pd.set_option(\"display.float_format\", lambda x: f\"{x:,.2f}\")\n",
    "\n",
    "# --- 2. PLOTTING STYLE ---\n",
    "# Sets a modern, clean style for all matplotlib and seaborn plots\n",
    "sns.set_theme(style=\"whitegrid\", palette=\"deep\")\n",
    "plt.rcParams[\"figure.figsize\"] = (12, 8)\n",
    "plt.rcParams[\"figure.dpi\"] = 100  # Makes plots sharper\n",
    "\n",
    "# --- 3. LOGURU CONFIGURATION ---\n",
    "# The \"beautiful\" and \"advanced\" logger you wanted\n",
    "logger.remove()  # Remove the default handler\n",
    "logger.add(\n",
    "    sys.stdout,\n",
    "    colorize=True,\n",
    "    format=(\n",
    "        \"<green>{time:YYYY-MM-DD HH:mm:ss}</green> | \"\n",
    "        \"<level>{level: <8}</level> | \"\n",
    "        \"<cyan>{name}</cyan>:<cyan>{function}</cyan>:<cyan>{line}</cyan> - \"\n",
    "        \"<level>{message}</level>\"\n",
    "    ),\n",
    ")\n",
    "logger.info(\"✅ All libraries imported and configurations set successfully!\")"
   ]
  },
  {
   "cell_type": "markdown",
   "id": "d63bcbb0-07b6-47c2-af08-3970319e7fee",
   "metadata": {},
   "source": [
    "## Data Reading"
   ]
  },
  {
   "cell_type": "code",
   "execution_count": 2,
   "id": "b5087548-262d-4909-b387-44ae59bd3008",
   "metadata": {
    "execution": {
     "iopub.execute_input": "2025-09-19T05:45:03.036418Z",
     "iopub.status.busy": "2025-09-19T05:45:03.035979Z",
     "iopub.status.idle": "2025-09-19T05:45:06.661211Z",
     "shell.execute_reply": "2025-09-19T05:45:06.660478Z",
     "shell.execute_reply.started": "2025-09-19T05:45:03.036393Z"
    }
   },
   "outputs": [],
   "source": [
    "df_raw = pd.read_csv(\"../data/raw/zomato_raw.csv\")"
   ]
  },
  {
   "cell_type": "code",
   "execution_count": 3,
   "id": "38ddc3a9-b0b3-4cd6-b663-69b849769588",
   "metadata": {
    "execution": {
     "iopub.execute_input": "2025-09-19T05:45:06.662074Z",
     "iopub.status.busy": "2025-09-19T05:45:06.661849Z",
     "iopub.status.idle": "2025-09-19T05:45:06.669228Z",
     "shell.execute_reply": "2025-09-19T05:45:06.668431Z",
     "shell.execute_reply.started": "2025-09-19T05:45:06.662060Z"
    }
   },
   "outputs": [
    {
     "data": {
      "text/plain": [
       "(51717, 17)"
      ]
     },
     "execution_count": 3,
     "metadata": {},
     "output_type": "execute_result"
    }
   ],
   "source": [
    "df_raw.shape"
   ]
  },
  {
   "cell_type": "code",
   "execution_count": 4,
   "id": "045a5198-4a43-4af5-847c-1fb454de48b5",
   "metadata": {
    "execution": {
     "iopub.execute_input": "2025-09-19T05:45:06.670264Z",
     "iopub.status.busy": "2025-09-19T05:45:06.669811Z",
     "iopub.status.idle": "2025-09-19T05:45:06.692226Z",
     "shell.execute_reply": "2025-09-19T05:45:06.691506Z",
     "shell.execute_reply.started": "2025-09-19T05:45:06.670245Z"
    }
   },
   "outputs": [
    {
     "data": {
      "text/html": [
       "<div>\n",
       "<style scoped>\n",
       "    .dataframe tbody tr th:only-of-type {\n",
       "        vertical-align: middle;\n",
       "    }\n",
       "\n",
       "    .dataframe tbody tr th {\n",
       "        vertical-align: top;\n",
       "    }\n",
       "\n",
       "    .dataframe thead th {\n",
       "        text-align: right;\n",
       "    }\n",
       "</style>\n",
       "<table border=\"1\" class=\"dataframe\">\n",
       "  <thead>\n",
       "    <tr style=\"text-align: right;\">\n",
       "      <th></th>\n",
       "      <th>url</th>\n",
       "      <th>address</th>\n",
       "      <th>name</th>\n",
       "      <th>online_order</th>\n",
       "      <th>book_table</th>\n",
       "      <th>rate</th>\n",
       "      <th>votes</th>\n",
       "      <th>phone</th>\n",
       "      <th>location</th>\n",
       "      <th>rest_type</th>\n",
       "      <th>dish_liked</th>\n",
       "      <th>cuisines</th>\n",
       "      <th>approx_cost(for two people)</th>\n",
       "      <th>reviews_list</th>\n",
       "      <th>menu_item</th>\n",
       "      <th>listed_in(type)</th>\n",
       "      <th>listed_in(city)</th>\n",
       "    </tr>\n",
       "  </thead>\n",
       "  <tbody>\n",
       "    <tr>\n",
       "      <th>0</th>\n",
       "      <td>https://www.zomato.com/bangalore/jalsa-banasha...</td>\n",
       "      <td>942, 21st Main Road, 2nd Stage, Banashankari, ...</td>\n",
       "      <td>Jalsa</td>\n",
       "      <td>Yes</td>\n",
       "      <td>Yes</td>\n",
       "      <td>4.1/5</td>\n",
       "      <td>775</td>\n",
       "      <td>080 42297555\\r\\n+91 9743772233</td>\n",
       "      <td>Banashankari</td>\n",
       "      <td>Casual Dining</td>\n",
       "      <td>Pasta, Lunch Buffet, Masala Papad, Paneer Laja...</td>\n",
       "      <td>North Indian, Mughlai, Chinese</td>\n",
       "      <td>800</td>\n",
       "      <td>[('Rated 4.0', 'RATED\\n  A beautiful place to ...</td>\n",
       "      <td>[]</td>\n",
       "      <td>Buffet</td>\n",
       "      <td>Banashankari</td>\n",
       "    </tr>\n",
       "    <tr>\n",
       "      <th>1</th>\n",
       "      <td>https://www.zomato.com/bangalore/spice-elephan...</td>\n",
       "      <td>2nd Floor, 80 Feet Road, Near Big Bazaar, 6th ...</td>\n",
       "      <td>Spice Elephant</td>\n",
       "      <td>Yes</td>\n",
       "      <td>No</td>\n",
       "      <td>4.1/5</td>\n",
       "      <td>787</td>\n",
       "      <td>080 41714161</td>\n",
       "      <td>Banashankari</td>\n",
       "      <td>Casual Dining</td>\n",
       "      <td>Momos, Lunch Buffet, Chocolate Nirvana, Thai G...</td>\n",
       "      <td>Chinese, North Indian, Thai</td>\n",
       "      <td>800</td>\n",
       "      <td>[('Rated 4.0', 'RATED\\n  Had been here for din...</td>\n",
       "      <td>[]</td>\n",
       "      <td>Buffet</td>\n",
       "      <td>Banashankari</td>\n",
       "    </tr>\n",
       "    <tr>\n",
       "      <th>2</th>\n",
       "      <td>https://www.zomato.com/SanchurroBangalore?cont...</td>\n",
       "      <td>1112, Next to KIMS Medical College, 17th Cross...</td>\n",
       "      <td>San Churro Cafe</td>\n",
       "      <td>Yes</td>\n",
       "      <td>No</td>\n",
       "      <td>3.8/5</td>\n",
       "      <td>918</td>\n",
       "      <td>+91 9663487993</td>\n",
       "      <td>Banashankari</td>\n",
       "      <td>Cafe, Casual Dining</td>\n",
       "      <td>Churros, Cannelloni, Minestrone Soup, Hot Choc...</td>\n",
       "      <td>Cafe, Mexican, Italian</td>\n",
       "      <td>800</td>\n",
       "      <td>[('Rated 3.0', \"RATED\\n  Ambience is not that ...</td>\n",
       "      <td>[]</td>\n",
       "      <td>Buffet</td>\n",
       "      <td>Banashankari</td>\n",
       "    </tr>\n",
       "    <tr>\n",
       "      <th>3</th>\n",
       "      <td>https://www.zomato.com/bangalore/addhuri-udupi...</td>\n",
       "      <td>1st Floor, Annakuteera, 3rd Stage, Banashankar...</td>\n",
       "      <td>Addhuri Udupi Bhojana</td>\n",
       "      <td>No</td>\n",
       "      <td>No</td>\n",
       "      <td>3.7/5</td>\n",
       "      <td>88</td>\n",
       "      <td>+91 9620009302</td>\n",
       "      <td>Banashankari</td>\n",
       "      <td>Quick Bites</td>\n",
       "      <td>Masala Dosa</td>\n",
       "      <td>South Indian, North Indian</td>\n",
       "      <td>300</td>\n",
       "      <td>[('Rated 4.0', \"RATED\\n  Great food and proper...</td>\n",
       "      <td>[]</td>\n",
       "      <td>Buffet</td>\n",
       "      <td>Banashankari</td>\n",
       "    </tr>\n",
       "    <tr>\n",
       "      <th>4</th>\n",
       "      <td>https://www.zomato.com/bangalore/grand-village...</td>\n",
       "      <td>10, 3rd Floor, Lakshmi Associates, Gandhi Baza...</td>\n",
       "      <td>Grand Village</td>\n",
       "      <td>No</td>\n",
       "      <td>No</td>\n",
       "      <td>3.8/5</td>\n",
       "      <td>166</td>\n",
       "      <td>+91 8026612447\\r\\n+91 9901210005</td>\n",
       "      <td>Basavanagudi</td>\n",
       "      <td>Casual Dining</td>\n",
       "      <td>Panipuri, Gol Gappe</td>\n",
       "      <td>North Indian, Rajasthani</td>\n",
       "      <td>600</td>\n",
       "      <td>[('Rated 4.0', 'RATED\\n  Very good restaurant ...</td>\n",
       "      <td>[]</td>\n",
       "      <td>Buffet</td>\n",
       "      <td>Banashankari</td>\n",
       "    </tr>\n",
       "  </tbody>\n",
       "</table>\n",
       "</div>"
      ],
      "text/plain": [
       "                                                 url                                            address                   name online_order book_table   rate  votes                             phone      location            rest_type                                         dish_liked                        cuisines approx_cost(for two people)                                       reviews_list menu_item listed_in(type) listed_in(city)\n",
       "0  https://www.zomato.com/bangalore/jalsa-banasha...  942, 21st Main Road, 2nd Stage, Banashankari, ...                  Jalsa          Yes        Yes  4.1/5    775    080 42297555\\r\\n+91 9743772233  Banashankari        Casual Dining  Pasta, Lunch Buffet, Masala Papad, Paneer Laja...  North Indian, Mughlai, Chinese                         800  [('Rated 4.0', 'RATED\\n  A beautiful place to ...        []          Buffet    Banashankari\n",
       "1  https://www.zomato.com/bangalore/spice-elephan...  2nd Floor, 80 Feet Road, Near Big Bazaar, 6th ...         Spice Elephant          Yes         No  4.1/5    787                      080 41714161  Banashankari        Casual Dining  Momos, Lunch Buffet, Chocolate Nirvana, Thai G...     Chinese, North Indian, Thai                         800  [('Rated 4.0', 'RATED\\n  Had been here for din...        []          Buffet    Banashankari\n",
       "2  https://www.zomato.com/SanchurroBangalore?cont...  1112, Next to KIMS Medical College, 17th Cross...        San Churro Cafe          Yes         No  3.8/5    918                    +91 9663487993  Banashankari  Cafe, Casual Dining  Churros, Cannelloni, Minestrone Soup, Hot Choc...          Cafe, Mexican, Italian                         800  [('Rated 3.0', \"RATED\\n  Ambience is not that ...        []          Buffet    Banashankari\n",
       "3  https://www.zomato.com/bangalore/addhuri-udupi...  1st Floor, Annakuteera, 3rd Stage, Banashankar...  Addhuri Udupi Bhojana           No         No  3.7/5     88                    +91 9620009302  Banashankari          Quick Bites                                        Masala Dosa      South Indian, North Indian                         300  [('Rated 4.0', \"RATED\\n  Great food and proper...        []          Buffet    Banashankari\n",
       "4  https://www.zomato.com/bangalore/grand-village...  10, 3rd Floor, Lakshmi Associates, Gandhi Baza...          Grand Village           No         No  3.8/5    166  +91 8026612447\\r\\n+91 9901210005  Basavanagudi        Casual Dining                                Panipuri, Gol Gappe        North Indian, Rajasthani                         600  [('Rated 4.0', 'RATED\\n  Very good restaurant ...        []          Buffet    Banashankari"
      ]
     },
     "execution_count": 4,
     "metadata": {},
     "output_type": "execute_result"
    }
   ],
   "source": [
    "df_raw.head(\n",
    "    5,\n",
    ")"
   ]
  },
  {
   "cell_type": "code",
   "execution_count": 5,
   "id": "c136b025-53ea-4cec-b2ac-04a8397515c6",
   "metadata": {
    "execution": {
     "iopub.execute_input": "2025-09-19T05:45:06.692990Z",
     "iopub.status.busy": "2025-09-19T05:45:06.692775Z",
     "iopub.status.idle": "2025-09-19T05:45:06.726594Z",
     "shell.execute_reply": "2025-09-19T05:45:06.725761Z",
     "shell.execute_reply.started": "2025-09-19T05:45:06.692975Z"
    }
   },
   "outputs": [
    {
     "name": "stdout",
     "output_type": "stream",
     "text": [
      "<class 'pandas.core.frame.DataFrame'>\n",
      "RangeIndex: 51717 entries, 0 to 51716\n",
      "Data columns (total 17 columns):\n",
      " #   Column                       Non-Null Count  Dtype \n",
      "---  ------                       --------------  ----- \n",
      " 0   url                          51717 non-null  object\n",
      " 1   address                      51717 non-null  object\n",
      " 2   name                         51717 non-null  object\n",
      " 3   online_order                 51717 non-null  object\n",
      " 4   book_table                   51717 non-null  object\n",
      " 5   rate                         43942 non-null  object\n",
      " 6   votes                        51717 non-null  int64 \n",
      " 7   phone                        50509 non-null  object\n",
      " 8   location                     51696 non-null  object\n",
      " 9   rest_type                    51490 non-null  object\n",
      " 10  dish_liked                   23639 non-null  object\n",
      " 11  cuisines                     51672 non-null  object\n",
      " 12  approx_cost(for two people)  51371 non-null  object\n",
      " 13  reviews_list                 51717 non-null  object\n",
      " 14  menu_item                    51717 non-null  object\n",
      " 15  listed_in(type)              51717 non-null  object\n",
      " 16  listed_in(city)              51717 non-null  object\n",
      "dtypes: int64(1), object(16)\n",
      "memory usage: 6.7+ MB\n"
     ]
    }
   ],
   "source": [
    "df_raw.info()"
   ]
  },
  {
   "cell_type": "code",
   "execution_count": 6,
   "id": "0804c958-5dd8-4584-983a-00e55597d6c5",
   "metadata": {
    "execution": {
     "iopub.execute_input": "2025-09-19T05:45:06.728129Z",
     "iopub.status.busy": "2025-09-19T05:45:06.727878Z",
     "iopub.status.idle": "2025-09-19T05:45:08.005896Z",
     "shell.execute_reply": "2025-09-19T05:45:08.005340Z",
     "shell.execute_reply.started": "2025-09-19T05:45:06.728111Z"
    }
   },
   "outputs": [
    {
     "data": {
      "text/plain": [
       "40"
      ]
     },
     "execution_count": 6,
     "metadata": {},
     "output_type": "execute_result"
    }
   ],
   "source": [
    "df_raw.duplicated(subset=[col for col in df_raw.columns if col not in ['url']]).sum()"
   ]
  },
  {
   "cell_type": "code",
   "execution_count": 7,
   "id": "8afd62e8-6590-440b-9bcb-9a44b786de9b",
   "metadata": {
    "execution": {
     "iopub.execute_input": "2025-09-19T05:45:08.006354Z",
     "iopub.status.busy": "2025-09-19T05:45:08.006226Z",
     "iopub.status.idle": "2025-09-19T05:45:08.017079Z",
     "shell.execute_reply": "2025-09-19T05:45:08.016296Z",
     "shell.execute_reply.started": "2025-09-19T05:45:08.006343Z"
    }
   },
   "outputs": [
    {
     "data": {
      "text/html": [
       "<div>\n",
       "<style scoped>\n",
       "    .dataframe tbody tr th:only-of-type {\n",
       "        vertical-align: middle;\n",
       "    }\n",
       "\n",
       "    .dataframe tbody tr th {\n",
       "        vertical-align: top;\n",
       "    }\n",
       "\n",
       "    .dataframe thead th {\n",
       "        text-align: right;\n",
       "    }\n",
       "</style>\n",
       "<table border=\"1\" class=\"dataframe\">\n",
       "  <thead>\n",
       "    <tr style=\"text-align: right;\">\n",
       "      <th></th>\n",
       "      <th>votes</th>\n",
       "    </tr>\n",
       "  </thead>\n",
       "  <tbody>\n",
       "    <tr>\n",
       "      <th>count</th>\n",
       "      <td>51,717.00</td>\n",
       "    </tr>\n",
       "    <tr>\n",
       "      <th>mean</th>\n",
       "      <td>283.70</td>\n",
       "    </tr>\n",
       "    <tr>\n",
       "      <th>std</th>\n",
       "      <td>803.84</td>\n",
       "    </tr>\n",
       "    <tr>\n",
       "      <th>min</th>\n",
       "      <td>0.00</td>\n",
       "    </tr>\n",
       "    <tr>\n",
       "      <th>25%</th>\n",
       "      <td>7.00</td>\n",
       "    </tr>\n",
       "    <tr>\n",
       "      <th>50%</th>\n",
       "      <td>41.00</td>\n",
       "    </tr>\n",
       "    <tr>\n",
       "      <th>75%</th>\n",
       "      <td>198.00</td>\n",
       "    </tr>\n",
       "    <tr>\n",
       "      <th>max</th>\n",
       "      <td>16,832.00</td>\n",
       "    </tr>\n",
       "  </tbody>\n",
       "</table>\n",
       "</div>"
      ],
      "text/plain": [
       "          votes\n",
       "count 51,717.00\n",
       "mean     283.70\n",
       "std      803.84\n",
       "min        0.00\n",
       "25%        7.00\n",
       "50%       41.00\n",
       "75%      198.00\n",
       "max   16,832.00"
      ]
     },
     "execution_count": 7,
     "metadata": {},
     "output_type": "execute_result"
    }
   ],
   "source": [
    "df_raw.describe()"
   ]
  },
  {
   "cell_type": "code",
   "execution_count": 8,
   "id": "5a29e102-6232-43e0-8260-6d69d1d4f329",
   "metadata": {
    "execution": {
     "iopub.execute_input": "2025-09-19T05:45:08.019783Z",
     "iopub.status.busy": "2025-09-19T05:45:08.019495Z",
     "iopub.status.idle": "2025-09-19T05:45:08.332379Z",
     "shell.execute_reply": "2025-09-19T05:45:08.331694Z",
     "shell.execute_reply.started": "2025-09-19T05:45:08.019765Z"
    }
   },
   "outputs": [
    {
     "data": {
      "text/html": [
       "<div>\n",
       "<style scoped>\n",
       "    .dataframe tbody tr th:only-of-type {\n",
       "        vertical-align: middle;\n",
       "    }\n",
       "\n",
       "    .dataframe tbody tr th {\n",
       "        vertical-align: top;\n",
       "    }\n",
       "\n",
       "    .dataframe thead th {\n",
       "        text-align: right;\n",
       "    }\n",
       "</style>\n",
       "<table border=\"1\" class=\"dataframe\">\n",
       "  <thead>\n",
       "    <tr style=\"text-align: right;\">\n",
       "      <th></th>\n",
       "      <th>url</th>\n",
       "      <th>address</th>\n",
       "      <th>name</th>\n",
       "      <th>online_order</th>\n",
       "      <th>book_table</th>\n",
       "      <th>rate</th>\n",
       "      <th>phone</th>\n",
       "      <th>location</th>\n",
       "      <th>rest_type</th>\n",
       "      <th>dish_liked</th>\n",
       "      <th>cuisines</th>\n",
       "      <th>approx_cost(for two people)</th>\n",
       "      <th>reviews_list</th>\n",
       "      <th>menu_item</th>\n",
       "      <th>listed_in(type)</th>\n",
       "      <th>listed_in(city)</th>\n",
       "    </tr>\n",
       "  </thead>\n",
       "  <tbody>\n",
       "    <tr>\n",
       "      <th>count</th>\n",
       "      <td>51717</td>\n",
       "      <td>51717</td>\n",
       "      <td>51717</td>\n",
       "      <td>51717</td>\n",
       "      <td>51717</td>\n",
       "      <td>43942</td>\n",
       "      <td>50509</td>\n",
       "      <td>51696</td>\n",
       "      <td>51490</td>\n",
       "      <td>23639</td>\n",
       "      <td>51672</td>\n",
       "      <td>51371</td>\n",
       "      <td>51717</td>\n",
       "      <td>51717</td>\n",
       "      <td>51717</td>\n",
       "      <td>51717</td>\n",
       "    </tr>\n",
       "    <tr>\n",
       "      <th>unique</th>\n",
       "      <td>51717</td>\n",
       "      <td>11495</td>\n",
       "      <td>8792</td>\n",
       "      <td>2</td>\n",
       "      <td>2</td>\n",
       "      <td>64</td>\n",
       "      <td>14926</td>\n",
       "      <td>93</td>\n",
       "      <td>93</td>\n",
       "      <td>5271</td>\n",
       "      <td>2723</td>\n",
       "      <td>70</td>\n",
       "      <td>22513</td>\n",
       "      <td>9098</td>\n",
       "      <td>7</td>\n",
       "      <td>30</td>\n",
       "    </tr>\n",
       "    <tr>\n",
       "      <th>top</th>\n",
       "      <td>https://www.zomato.com/bangalore/jalsa-banasha...</td>\n",
       "      <td>Delivery Only</td>\n",
       "      <td>Cafe Coffee Day</td>\n",
       "      <td>Yes</td>\n",
       "      <td>No</td>\n",
       "      <td>NEW</td>\n",
       "      <td>080 43334321</td>\n",
       "      <td>BTM</td>\n",
       "      <td>Quick Bites</td>\n",
       "      <td>Biryani</td>\n",
       "      <td>North Indian</td>\n",
       "      <td>300</td>\n",
       "      <td>[]</td>\n",
       "      <td>[]</td>\n",
       "      <td>Delivery</td>\n",
       "      <td>BTM</td>\n",
       "    </tr>\n",
       "    <tr>\n",
       "      <th>freq</th>\n",
       "      <td>1</td>\n",
       "      <td>128</td>\n",
       "      <td>96</td>\n",
       "      <td>30444</td>\n",
       "      <td>45268</td>\n",
       "      <td>2208</td>\n",
       "      <td>216</td>\n",
       "      <td>5124</td>\n",
       "      <td>19132</td>\n",
       "      <td>182</td>\n",
       "      <td>2913</td>\n",
       "      <td>7576</td>\n",
       "      <td>7595</td>\n",
       "      <td>39617</td>\n",
       "      <td>25942</td>\n",
       "      <td>3279</td>\n",
       "    </tr>\n",
       "  </tbody>\n",
       "</table>\n",
       "</div>"
      ],
      "text/plain": [
       "                                                      url        address             name online_order book_table   rate         phone location    rest_type dish_liked      cuisines approx_cost(for two people) reviews_list menu_item listed_in(type) listed_in(city)\n",
       "count                                               51717          51717            51717        51717      51717  43942         50509    51696        51490      23639         51672                       51371        51717     51717           51717           51717\n",
       "unique                                              51717          11495             8792            2          2     64         14926       93           93       5271          2723                          70        22513      9098               7              30\n",
       "top     https://www.zomato.com/bangalore/jalsa-banasha...  Delivery Only  Cafe Coffee Day          Yes         No    NEW  080 43334321      BTM  Quick Bites    Biryani  North Indian                         300           []        []        Delivery             BTM\n",
       "freq                                                    1            128               96        30444      45268   2208           216     5124        19132        182          2913                        7576         7595     39617           25942            3279"
      ]
     },
     "execution_count": 8,
     "metadata": {},
     "output_type": "execute_result"
    }
   ],
   "source": [
    "df_raw.describe(include=\"object\")"
   ]
  },
  {
   "cell_type": "code",
   "execution_count": 9,
   "id": "92e36e50-2c70-45db-88ad-b23c3c703a82",
   "metadata": {
    "execution": {
     "iopub.execute_input": "2025-09-19T05:45:08.333106Z",
     "iopub.status.busy": "2025-09-19T05:45:08.332916Z",
     "iopub.status.idle": "2025-09-19T05:45:08.337544Z",
     "shell.execute_reply": "2025-09-19T05:45:08.336978Z",
     "shell.execute_reply.started": "2025-09-19T05:45:08.333088Z"
    }
   },
   "outputs": [
    {
     "data": {
      "text/plain": [
       "Index(['url', 'address', 'name', 'online_order', 'book_table', 'rate', 'votes', 'phone', 'location', 'rest_type', 'dish_liked', 'cuisines', 'approx_cost(for two people)', 'reviews_list', 'menu_item', 'listed_in(type)', 'listed_in(city)'], dtype='object')"
      ]
     },
     "execution_count": 9,
     "metadata": {},
     "output_type": "execute_result"
    }
   ],
   "source": [
    "df_raw.columns"
   ]
  },
  {
   "cell_type": "code",
   "execution_count": 10,
   "id": "819c316f-4d63-4fc7-8e43-4defc9342c31",
   "metadata": {
    "execution": {
     "iopub.execute_input": "2025-09-19T05:45:08.338173Z",
     "iopub.status.busy": "2025-09-19T05:45:08.337978Z",
     "iopub.status.idle": "2025-09-19T05:45:08.351942Z",
     "shell.execute_reply": "2025-09-19T05:45:08.351346Z",
     "shell.execute_reply.started": "2025-09-19T05:45:08.338135Z"
    }
   },
   "outputs": [
    {
     "name": "stdout",
     "output_type": "stream",
     "text": [
      "The first data of url: https://www.zomato.com/bangalore/caf%C3%A9-down-the-alley-banashankari?context=eyJzZSI6eyJlIjpbIjE4NTY1Njc5IiwiMTg1OTMwNDQiLCIxODE0ODk0MSIsMTg0NzA3NzEsIjE4NzE2MDYxIiwiMTg2MzI5NzciLCIxODIwMjk5NyIsIjU5MDkwIiwiMTg1NTkyMTEiLCIxODMyMzYzOSIsIjE4NTc0Mjc3IiwiMTg3MjM0OTQiLCIxODg2NzEyMiIsIjE4Njg4NDg5Il0sInQiOiJDYWZcdTAwZTlzIGFuZCBEZWxpcyBpbiBCYW5hc2hhbmthcmkifX0=\n",
      "\n",
      "The first data of address: 12,29 Near PES University Back Gate, D'Souza Nagar, Hosakerehalli, 3rd Stage, Banashankari, Bangalore\n",
      "\n",
      "The first data of name: CafÃÂÃÂÃÂÃÂÃÂÃÂÃÂÃÂ© Down The Alley\n",
      "\n",
      "The first data of online_order: Yes\n",
      "\n",
      "The first data of book_table: No\n",
      "\n",
      "The first data of rate: 4.1/5\n",
      "\n",
      "The first data of votes: 402\n",
      "\n",
      "The first data of phone: 080 26724489\n",
      "+91 7406048982\n",
      "\n",
      "The first data of location: Banashankari\n",
      "\n",
      "The first data of rest_type: Cafe\n",
      "\n",
      "The first data of dish_liked: Waffles, Pasta, Crispy Chicken, Honey Chilli Chicken, Sandwich, Coffee, Crepe\n",
      "\n",
      "The first data of cuisines: Cafe\n",
      "\n",
      "The first data of approx_cost(for two people): 500\n",
      "\n",
      "The first data of reviews_list: [('Rated 4.0', 'RATED\\n  We ended up here on a Saturday afternoon after an hectic day\\nThe food was too good\\nThe ambience is okay\\nBut usually itÃ\\x83Ã\\x83Ã\\x82Ã\\x82Ã\\x83Ã\\x82Ã\\x82Ã\\x92s crowded with the college students around\\nFood 4.5/5\\nAmbience 4/5'), ('Rated 4.0', 'RATED\\n  The food was amazing but they might need to work on the pizza and the crepes. The lighting is a little bit on the dimmer side, but the ambience is quite good because of the comic theme.'), ('Rated 5.0', 'RATED\\n  Best waffles?? I am coming here from past 1 year! Good place to chill with friends! Good ambience, good food,!! Must visit place if youÃ\\x83Ã\\x83Ã\\x82Ã\\x82Ã\\x83Ã\\x82Ã\\x82Ã\\x92re in and around Banashankari'), ('Rated 4.0', 'RATED\\n  Food 4/5\\nAmbience 3.5/5\\nStaffs and service 4/5\\nCost 4/5\\n\\nComic theme ambience with good food and service. Very calm and composed with lively environment ! Overall a very good place to hangout .... Loved it ?'), ('Rated 4.0', 'RATED\\n  CafÃ\\x83Ã\\x83Ã\\x82Ã\\x83Ã\\x83Ã\\x82Ã\\x82ÃÂ© which is very near to my home did outreach my expectations. I did like the ambience and service in this cafÃ\\x83Ã\\x83Ã\\x82Ã\\x83Ã\\x83Ã\\x82Ã\\x82ÃÂ©. Ordered Mango and Almond Smoothies with Potato Wedges, Pesto Veg Pasta. It was just lip smacking. Again, the next evening i took my wife to the same place and had Alfredo Veg Pasta, Chilly Baby Corn, French Fries, Black currant and Lychee Smoothees and turn out to be good. I recommend this place for my friends in my neighborhood!'), ('Rated 3.0', \"RATED\\n  This cute comic book themed cafe is one of the closest hangout places for college students. It is fun if you go with a group of friends. The food is kinda good but not that great. Pasta Alfredo has too much cheese which kinda starts making you sick of it. I don't know if that should be considered a good point or a bad one xD Also, I wish they gave garlic bread with pasta and not the regular one :( Pizza is okayish, pasta arrabiata is good. This place is famous for Chilli cheese Maggi and blue lagoon. They are super tasty but kinda overpriced. Sandwiches, waffles and nuggets are also pretty good.\\nThe place is really pretty, a good hangout place but nahhh, I wouldn't suggest you to go there if your sole purpose is to have good food.\"), ('Rated 3.0', 'RATED\\n  A good place to sit with a bunch of friends and hangout.. food tastes good and the service is also quick.\\nBut a boring place if u go with a just 1 or 2 people.\\nUsually not crowded, and this place can be easily located while passing by.')]\n",
      "\n",
      "The first data of menu_item: []\n",
      "\n",
      "The first data of listed_in(type): Cafes\n",
      "\n",
      "The first data of listed_in(city): Banashankari\n",
      "\n"
     ]
    }
   ],
   "source": [
    "for col in df_raw.columns.tolist():\n",
    "    print(f\"The first data of {col}: {df_raw[col][10]}\\n\")"
   ]
  },
  {
   "cell_type": "code",
   "execution_count": 11,
   "id": "8f383a8b-5387-4276-a5e1-7b0cfbb7a4e4",
   "metadata": {
    "execution": {
     "iopub.execute_input": "2025-09-19T05:45:08.352732Z",
     "iopub.status.busy": "2025-09-19T05:45:08.352536Z",
     "iopub.status.idle": "2025-09-19T05:45:08.370255Z",
     "shell.execute_reply": "2025-09-19T05:45:08.369379Z",
     "shell.execute_reply.started": "2025-09-19T05:45:08.352715Z"
    }
   },
   "outputs": [
    {
     "name": "stdout",
     "output_type": "stream",
     "text": [
      "--- INSPECTING ROW 43380 ---\n",
      "\n",
      "[ADDRESS]\n",
      "57, Samsung Opera House, Junction of Brigade Road & Residency Road, Brigade Road, Bangalore\n",
      "\n",
      "[REVIEWS_LIST]\n",
      "[('Rated 4.0', 'RATED\\n  Ã\\x83Ã\\x83Ã\\x82Ã\\x83Ã\\x83Ã\\x82Ã\\x82ÃÂ£Ã\\x83Ã\\x83Ã\\x82Ã\\x82Ã\\x83Ã\\x82Ã\\x82Ã\\x83Ã\\x83Ã\\x83Ã\\x82Ã\\x82Ã\\x83Ã\\x82Ã\\x82Ã\\x96Ã\\x83Ã\\x83Ã\\x82Ã\\x83Ã\\x83Ã\\x82Ã\\x82ÃÂ£Ã\\x83Ã\\x83Ã\\x82Ã\\x82Ã\\x83Ã\\x82Ã\\x82Ã\\x83Ã\\x83Ã\\x83Ã\\x82Ã\\x82Ã\\x83Ã\\x82Ã\\x82ÃÂªÃ\\x83Ã\\x83Ã\\x82Ã\\x83Ã\\x83Ã\\x82Ã\\x82ÃÂ£Ã\\x83Ã\\x83Ã\\x82Ã\\x82Ã\\x83Ã\\x82Ã\\x82Ã\\x82Ã\\x83Ã\\x83Ã\\x82Ã\\x82Ã\\x83Ã\\x82Ã\\x82ÃÂ²Ã\\x83Ã\\x83Ã\\x82Ã\\x83Ã\\x83Ã\\x82Ã\\x82ÃÂ£Ã\\x83Ã\\x83Ã\\x82Ã\\x82Ã\\x83Ã\\x82Ã\\x82Ã\\x83Ã\\x83Ã\\x83Ã\\x82Ã\\x82Ã\\x83Ã\\x82Ã\\x82ÃÂ¼Ã\\x83Ã\\x83Ã\\x82Ã\\x83Ã\\x83Ã\\x82Ã\\x82ÃÂ£Ã\\x83Ã\\x83Ã\\x82Ã\\x82Ã\\x83Ã\\x82Ã\\x82Ã\\x83Ã\\x83Ã\\x83Ã\\x82Ã\\x82Ã\\x83Ã\\x82Ã\\x82Ã\\x89Ã\\x83Ã\\x83Ã\\x82Ã\\x83Ã\\x83Ã\\x82Ã\\x82ÃÂ£Ã\\x83Ã\\x83Ã\\x82Ã\\x82Ã\\x83Ã\\x82Ã\\x82Ã\\x83Ã\\x83Ã\\x83Ã\\x82Ã\\x82Ã\\x83Ã\\x82Ã\\x82Ã\\xadÃ\\x83Ã\\x83Ã\\x82Ã\\x83Ã\\x83Ã\\x82Ã\\x82ÃÂ£Ã\\x83Ã\\x83Ã\\x82Ã\\x82Ã\\x83Ã\\x82Ã\\x82Ã\\x83Ã\\x83Ã\\x83Ã\\x82Ã\\x82Ã\\x83Ã\\x82Ã\\x82ÃÂ¼Ã\\x83Ã\\x83Ã\\x82Ã\\x83Ã\\x83Ã\\x82Ã\\x82ÃÂ£Ã\\x83Ã\\x83Ã\\x82Ã\\x82Ã\\x83Ã\\x82Ã\\x82Ã\\x83Ã\\x83Ã\\x83Ã\\x82Ã\\x82Ã\\x83Ã\\x82Ã\\x82Ã\\x89Ã\\x83Ã\\x83Ã\\x82Ã\\x83Ã\\x83Ã\\x82Ã\\x82ÃÂ£Ã\\x83Ã\\x83Ã\\x82Ã\\x82Ã\\x83Ã\\x82Ã\\x82Ã\\x82Ã\\x83Ã\\x83Ã\\x82Ã\\x82Ã\\x83Ã\\x82Ã\\x82Ã\\x92Ã\\x83Ã\\x83Ã\\x82Ã\\x83Ã\\x83Ã\\x82Ã\\x82ÃÂ¤Ã\\x83Ã\\x83Ã\\x82Ã\\x82Ã\\x83Ã\\x82Ã\\x82ÃÂ¸Ã\\x83Ã\\x83Ã\\x82Ã\\x82Ã\\x83Ã\\x82Ã\\x82Ã\\x8bÃ\\x83Ã\\x83Ã\\x82Ã\\x83Ã\\x83Ã\\x82Ã\\x82ÃÂ£Ã\\x83Ã\\x83Ã\\x82Ã\\x82Ã\\x83Ã\\x82Ã\\x82Ã\\x81Ã\\x83Ã\\x83Ã\\x82Ã\\x82Ã\\x83Ã\\x82Ã\\x82ÃÂ£Ã\\x83Ã\\x83Ã\\x82Ã\\x83Ã\\x83Ã\\x82Ã\\x82ÃÂ£Ã\\x83Ã\\x83Ã\\x82Ã\\x82Ã\\x83Ã\\x82Ã\\x82Ã\\x81Ã\\x83Ã\\x83Ã\\x82Ã\\x82Ã\\x83Ã\\x82Ã\\x82ÃÂ¦Ã\\x83Ã\\x83Ã\\x82Ã\\x83Ã\\x83Ã\\x82Ã\\x82ÃÂ£Ã\\x83Ã\\x83Ã\\x82Ã\\x82Ã\\x83Ã\\x82Ã\\x82Ã\\x81Ã\\x83Ã\\x83Ã\\x82Ã\\x82Ã\\x83Ã\\x82Ã\\x82Ã\\x84Ã\\x83Ã\\x83Ã\\x82Ã\\x83Ã\\x83Ã\\x82Ã\\x82ÃÂ£Ã\\x83Ã\\x83Ã\\x82Ã\\x82Ã\\x83Ã\\x82Ã\\x82Ã\\x81Ã\\x83Ã\\x83Ã\\x82Ã\\x82Ã\\x83Ã\\x82Ã\\x82ÃÂ£Ã\\x83Ã\\x83Ã\\x82Ã\\x83Ã\\x83Ã\\x82Ã\\x82ÃÂ£Ã\\x83Ã\\x83Ã\\x82Ã\\x82Ã\\x83Ã\\x82Ã\\x82Ã\\x81Ã\\x83Ã\\x83Ã\\x82Ã\\x82Ã\\x83Ã\\x82Ã\\x82Ã\\x9fÃ\\x83Ã\\x83Ã\\x82Ã\\x83Ã\\x83Ã\\x82Ã\\x82ÃÂ¥Ã\\x83Ã\\x83Ã\\x82Ã\\x82Ã\\x83Ã\\x82Ã\\x82ÃÂ·Ã\\x83Ã\\x83Ã\\x82Ã\\x82Ã\\x83Ã\\x82Ã\\x82ÃÂ¦Ã\\x83Ã\\x83Ã\\x82Ã\\x83Ã\\x83Ã\\x82Ã\\x82ÃÂ¦Ã\\x83Ã\\x83Ã\\x82Ã\\x82Ã\\x83Ã\\x82Ã\\x82Ã\\x89Ã\\x83Ã\\x83Ã\\x82Ã\\x82Ã\\x83Ã\\x82Ã\\x82Ã\\x8bÃ\\x83Ã\\x83Ã\\x82Ã\\x83Ã\\x83Ã\\x82Ã\\x82ÃÂ£Ã\\x83Ã\\x83Ã\\x82Ã\\x82Ã\\x83Ã\\x82Ã\\x82Ã\\x81Ã\\x83Ã\\x83Ã\\x82Ã\\x82Ã\\x83Ã\\x82Ã\\x82ÃÂ«Ã\\x83Ã\\x83Ã\\x82Ã\\x83Ã\\x83Ã\\x82Ã\\x82ÃÂ£Ã\\x83Ã\\x83Ã\\x82Ã\\x82Ã\\x83Ã\\x82Ã\\x82Ã\\x81Ã\\x83Ã\\x83Ã\\x82Ã\\x82Ã\\x83Ã\\x82Ã\\x82Ã\\x82Ã\\x83Ã\\x83Ã\\x82Ã\\x83Ã\\x83Ã\\x82Ã\\x82ÃÂ£Ã\\x83Ã\\x83Ã\\x82Ã\\x82Ã\\x83Ã\\x82Ã\\x82Ã\\x82Ã\\x83Ã\\x83Ã\\x82Ã\\x82Ã\\x83Ã\\x82Ã\\x82Ã\\x8bÃ\\x83Ã\\x83Ã\\x82Ã\\x83Ã\\x83Ã\\x82Ã\\x82ÃÂ£Ã\\x83Ã\\x83Ã\\x82Ã\\x82Ã\\x83Ã\\x82Ã\\x82Ã\\x82Ã\\x83Ã\\x83Ã\\x82Ã\\x82Ã\\x83Ã\\x82Ã\\x82ÃÂªÃ\\x83Ã\\x83Ã\\x82Ã\\x83Ã\\x83Ã\\x82Ã\\x82ÃÂ£Ã\\x83Ã\\x83Ã\\x82Ã\\x82Ã\\x83Ã\\x82Ã\\x82Ã\\x83Ã\\x83Ã\\x83Ã\\x82Ã\\x82Ã\\x83Ã\\x82Ã\\x82Ã\\x9aÃ\\x83Ã\\x83Ã\\x82Ã\\x83Ã\\x83Ã\\x82Ã\\x82ÃÂ£Ã\\x83Ã\\x83Ã\\x82Ã\\x82Ã\\x83Ã\\x82Ã\\x82Ã\\x83Ã\\x83Ã\\x83Ã\\x82Ã\\x82Ã\\x83Ã\\x82Ã\\x82ÃÂ©Ã\\x83Ã\\x83Ã\\x82Ã\\x83Ã\\x83Ã\\x82Ã\\x82ÃÂ£Ã\\x83Ã\\x83Ã\\x82Ã\\x82Ã\\x83Ã\\x82Ã\\x82Ã\\x83Ã\\x83Ã\\x83Ã\\x82Ã\\x82Ã\\x83Ã\\x82Ã\\x82Ã\\x8fÃ\\x83Ã\\x83Ã\\x82Ã\\x83Ã\\x83Ã\\x82Ã\\x82ÃÂ£Ã\\x83Ã\\x83Ã\\x82Ã\\x82Ã\\x83Ã\\x82Ã\\x82Ã\\x82Ã\\x83Ã\\x83Ã\\x82Ã\\x82Ã\\x83Ã\\x82Ã\\x82ÃÂ¦Ã\\x83Ã\\x83Ã\\x82Ã\\x83Ã\\x83Ã\\x82Ã\\x82ÃÂ£Ã\\x83Ã\\x83Ã\\x82Ã\\x82Ã\\x83Ã\\x82Ã\\x82Ã\\x82Ã\\x83Ã\\x83Ã\\x82Ã\\x82Ã\\x83Ã\\x82Ã\\x82ÃÂ¹Ã\\x83Ã\\x83Ã\\x82Ã\\x83Ã\\x83Ã\\x82Ã\\x82ÃÂ£Ã\\x83Ã\\x83Ã\\x82Ã\\x82Ã\\x83Ã\\x82Ã\\x82Ã\\x80Ã\\x83Ã\\x83Ã\\x82Ã\\x82Ã\\x83Ã\\x82Ã\\x82Ã\\x82Ã\\x83Ã\\x83Ã\\x82Ã\\x83Ã\\x83Ã\\x82Ã\\x82ÃÂ¦Ã\\x83Ã\\x83Ã\\x82Ã\\x82Ã\\x83Ã\\x82Ã\\x82Ã\\x9cÃ\\x83Ã\\x83Ã\\x82Ã\\x82Ã\\x83Ã\\x82Ã\\x82Ã\\x80Ã\\x83Ã\\x83Ã\\x82Ã\\x83Ã\\x83Ã\\x82Ã\\x82ÃÂ¨Ã\\x83Ã\\x83Ã\\x82Ã\\x82Ã\\x83Ã\\x82Ã\\x82ÃÂ¿Ã\\x83Ã\\x83Ã\\x82Ã\\x82Ã\\x83Ã\\x82Ã\\x82Ã\\x91Ã\\x83Ã\\x83Ã\\x82Ã\\x83Ã\\x83Ã\\x82Ã\\x82ÃÂ©Ã\\x83Ã\\x83Ã\\x82Ã\\x82Ã\\x83Ã\\x82Ã\\x82Ã\\x9fÃ\\x83Ã\\x83Ã\\x82Ã\\x82Ã\\x83Ã\\x82Ã\\x82Ã\\x93Ã\\x83Ã\\x83Ã\\x82Ã\\x83Ã\\x83Ã\\x82Ã\\x82ÃÂ¥Ã\\x83Ã\\x83Ã\\x82Ã\\x82Ã\\x83Ã\\x82Ã\\x82Ã\\x9bÃ\\x83Ã\\x83Ã\\x82Ã\\x82Ã\\x83Ã\\x82Ã\\x82ÃÂ½Ã\\x83Ã\\x83Ã\\x82Ã\\x83Ã\\x83Ã\\x82Ã\\x82ÃÂ¤Ã\\x83Ã\\x83Ã\\x82Ã\\x82Ã\\x83Ã\\x82Ã\\x82ÃÂ¼Ã\\x83Ã\\x83Ã\\x82Ã\\x82Ã\\x83Ã\\x82Ã\\x82Ã\\x81Ã\\x83Ã\\x83Ã\\x82Ã\\x83Ã\\x83Ã\\x82Ã\\x82ÃÂ¦Ã\\x83Ã\\x83Ã\\x82Ã\\x82Ã\\x83Ã\\x82Ã\\x82ÃÂ¥Ã\\x83Ã\\x83Ã\\x82Ã\\x82Ã\\x83Ã\\x82Ã\\x82Ã\\xadÃ\\x83Ã\\x83Ã\\x82Ã\\x83Ã\\x83Ã\\x82Ã\\x82ÃÂ£Ã\\x83Ã\\x83Ã\\x82Ã\\x82Ã\\x83Ã\\x82Ã\\x82Ã\\x81Ã\\x83Ã\\x83Ã\\x82Ã\\x82Ã\\x83Ã\\x82Ã\\x82ÃÂ®Ã\\x83Ã\\x83Ã\\x82Ã\\x83Ã\\x83Ã\\x82Ã\\x82ÃÂ£Ã\\x83Ã\\x83Ã\\x82Ã\\x82Ã\\x83Ã\\x82Ã\\x82Ã\\x82Ã\\x83Ã\\x83Ã\\x82Ã\\x82Ã\\x83Ã\\x82Ã\\x82ÃÂµÃ\\x83Ã\\x83Ã\\x82Ã\\x83Ã\\x83Ã\\x82Ã\\x82ÃÂ£Ã\\x83Ã\\x83Ã\\x82Ã\\x82Ã\\x83Ã\\x82Ã\\x82Ã\\x83Ã\\x83Ã\\x83Ã\\x82Ã\\x82Ã\\x83Ã\\x82Ã\\x82Ã\\xa0Ã\\x83Ã\\x83Ã\\x82Ã\\x83Ã\\x83Ã\\x82Ã\\x82ÃÂ£Ã\\x83Ã\\x83Ã\\x82Ã\\x82Ã\\x83Ã\\x82Ã\\x82Ã\\x82Ã\\x83Ã\\x83Ã\\x82Ã\\x82Ã\\x83Ã\\x82Ã\\x82ÃÂ½Ã\\x83Ã\\x83Ã\\x82Ã\\x83Ã\\x83Ã\\x82Ã\\x82ÃÂ£Ã\\x83Ã\\x83Ã\\x82Ã\\x82Ã\\x83Ã\\x82Ã\\x82Ã\\x83Ã\\x83Ã\\x83Ã\\x82Ã\\x82Ã\\x83Ã\\x82Ã\\x82ÃÂ³Ã\\x83Ã\\x83Ã\\x82Ã\\x83Ã\\x83Ã\\x82Ã\\x82ÃÂ£Ã\\x83Ã\\x83Ã\\x82Ã\\x82Ã\\x83Ã\\x82Ã\\x82Ã\\x81Ã\\x83Ã\\x83Ã\\x82Ã\\x82Ã\\x83Ã\\x82Ã\\x82Ã\\x8cÃ\\x83Ã\\x83Ã\\x82Ã\\x83Ã\\x83Ã\\x82Ã\\x82ÃÂ¥Ã\\x83Ã\\x83Ã\\x82Ã\\x82Ã\\x83Ã\\x82Ã\\x82ÃÂ¤Ã\\x83Ã\\x83Ã\\x82Ã\\x82Ã\\x83Ã\\x82Ã\\x82ÃÂ§Ã\\x83Ã\\x83Ã\\x82Ã\\x83Ã\\x83Ã\\x82Ã\\x82ÃÂ£Ã\\x83Ã\\x83Ã\\x82Ã\\x82Ã\\x83Ã\\x82Ã\\x82Ã\\x80Ã\\x83Ã\\x83Ã\\x82Ã\\x82Ã\\x83Ã\\x82Ã\\x82Ã\\x85Ã\\x83Ã\\x83Ã\\x82Ã\\x83Ã\\x83Ã\\x82Ã\\x82ÃÂ§Ã\\x83Ã\\x83Ã\\x82Ã\\x82Ã\\x83Ã\\x82Ã\\x82Ã\\x9aÃ\\x83Ã\\x83Ã\\x82Ã\\x82Ã\\x83Ã\\x82Ã\\x82Ã\\x84Ã\\x83Ã\\x83Ã\\x82Ã\\x83Ã\\x83Ã\\x82Ã\\x82ÃÂ£Ã\\x83Ã\\x83Ã\\x82Ã\\x82Ã\\x83Ã\\x82Ã\\x82Ã\\x81Ã\\x83Ã\\x83Ã\\x82Ã\\x82Ã\\x83Ã\\x82Ã\\x82ÃÂªÃ\\x83Ã\\x83Ã\\x82Ã\\x83Ã\\x83Ã\\x82Ã\\x82ÃÂ£Ã\\x83Ã\\x83Ã\\x82Ã\\x82Ã\\x83Ã\\x82Ã\\x82Ã\\x83Ã\\x83Ã\\x83Ã\\x82Ã\\x82Ã\\x83Ã\\x82Ã\\x82ÃÂªÃ\\x83Ã\\x83Ã\\x82Ã\\x83Ã\\x83Ã\\x82Ã\\x82ÃÂ£Ã\\x83Ã\\x83Ã\\x82Ã\\x82Ã\\x83Ã\\x82Ã\\x82Ã\\x83Ã\\x83Ã\\x83Ã\\x82Ã\\x82Ã\\x83Ã\\x82Ã\\x82Ã\\x8bÃ\\x83Ã\\x83Ã\\x82Ã\\x83Ã\\x83Ã\\x82Ã\\x82ÃÂ£Ã\\x83Ã\\x83Ã\\x82Ã\\x82Ã\\x83Ã\\x82Ã\\x82Ã\\x83Ã\\x83Ã\\x83Ã\\x82Ã\\x82Ã\\x83Ã\\x82Ã\\x82ÃÂ¥Ã\\x83Ã\\x83Ã\\x82Ã\\x83Ã\\x83Ã\\x82Ã\\x82ÃÂ£Ã\\x83Ã\\x83Ã\\x82Ã\\x82Ã\\x83Ã\\x82Ã\\x82Ã\\x83Ã\\x83Ã\\x83Ã\\x82Ã\\x82Ã\\x83Ã\\x82Ã\\x82ÃÂ¼Ã\\x83Ã\\x83Ã\\x82Ã\\x83Ã\\x83Ã\\x82Ã\\x82ÃÂ£Ã\\x83Ã\\x83Ã\\x82Ã\\x82Ã\\x83Ã\\x82Ã\\x82Ã\\x82Ã\\x83Ã\\x83Ã\\x82Ã\\x82Ã\\x83Ã\\x82Ã\\x82ÃÂ¢Ã\\x83Ã\\x83Ã\\x82Ã\\x83Ã\\x83Ã\\x82Ã\\x82ÃÂ£Ã\\x83Ã\\x83Ã\\x82Ã\\x82Ã\\x83Ã\\x82Ã\\x82Ã\\x83Ã\\x83Ã\\x83Ã\\x82Ã\\x82Ã\\x83Ã\\x82Ã\\x82ÃÂ«Ã\\x83Ã\\x83Ã\\x82Ã\\x83Ã\\x83Ã\\x82Ã\\x82ÃÂ£Ã\\x83Ã\\x83Ã\\x82Ã\\x82Ã\\x83Ã\\x82Ã\\x82Ã\\x82Ã\\x83Ã\\x83Ã\\x82Ã\\x82Ã\\x83Ã\\x82Ã\\x82Ã\\x92Ã\\x83Ã\\x83Ã\\x82Ã\\x83Ã\\x83Ã\\x82Ã\\x82ÃÂ¥Ã\\x83Ã\\x83Ã\\x82Ã\\x82Ã\\x83Ã\\x82Ã\\x82ÃÂ®Ã\\x83Ã\\x83Ã\\x82Ã\\x82Ã\\x83Ã\\x82Ã\\x82Ã\\x9fÃ\\x83Ã\\x83Ã\\x82Ã\\x83Ã\\x83Ã\\x82Ã\\x82ÃÂ¦Ã\\x83Ã\\x83Ã\\x82Ã\\x82Ã\\x83Ã\\x82Ã\\x82Ã\\x96Ã\\x83Ã\\x83Ã\\x82Ã\\x82Ã\\x83Ã\\x82Ã\\x82ÃÂ½Ã\\x83Ã\\x83Ã\\x82Ã\\x83Ã\\x83Ã\\x82Ã\\x82ÃÂ£Ã\\x83Ã\\x83Ã\\x82Ã\\x82Ã\\x83Ã\\x82Ã\\x82Ã\\x81Ã\\x83Ã\\x83Ã\\x82Ã\\x82Ã\\x83Ã\\x82Ã\\x82Ã\\x97Ã\\x83Ã\\x83Ã\\x82Ã\\x83Ã\\x83Ã\\x82Ã\\x82ÃÂ£Ã\\x83Ã\\x83Ã\\x82Ã\\x82Ã\\x83Ã\\x82Ã\\x82Ã\\x80Ã\\x83Ã\\x83Ã\\x82Ã\\x82Ã\\x83Ã\\x82Ã\\x82Ã\\x81Ã\\x83Ã\\x83Ã\\x82Ã\\x83Ã\\x83Ã\\x82Ã\\x82ÃÂ¤Ã\\x83Ã\\x83Ã\\x82Ã\\x82Ã\\x83Ã\\x82Ã\\x82ÃÂ¸Ã\\x83Ã\\x83Ã\\x82Ã\\x82Ã\\x83Ã\\x82Ã\\x82Ã\\x80Ã\\x83Ã\\x83Ã\\x82Ã\\x83Ã\\x83Ã\\x82Ã\\x82ÃÂ¥Ã\\x83Ã\\x83Ã\\x82Ã\\x82Ã\\x83Ã\\x82Ã\\x82ÃÂ¤Ã\\x83Ã\\x83Ã\\x82Ã\\x82Ã\\x83Ã\\x82Ã\\x82ÃÂ§Ã\\x83Ã\\x83Ã\\x82Ã\\x83Ã\\x83Ã\\x82Ã\\x82ÃÂ¥Ã\\x83Ã\\x83Ã\\x82Ã\\x82Ã\\x83Ã\\x82Ã\\x82ÃÂ±Ã\\x83Ã\\x83Ã\\x82Ã\\x82Ã\\x83Ã\\x82Ã\\x82Ã\\x95Ã\\x83Ã\\x83Ã\\x82Ã\\x83Ã\\x83Ã\\x82Ã\\x82ÃÂ§Ã\\x83Ã\\x83Ã\\x82Ã\\x82Ã\\x83Ã\\x82Ã\\x82ÃÂ¤Ã\\x83Ã\\x83Ã\\x82Ã\\x82Ã\\x83Ã\\x82Ã\\x82ÃÂºÃ\\x83Ã\\x83Ã\\x82Ã\\x83Ã\\x83Ã\\x82Ã\\x82ÃÂ¥Ã\\x83Ã\\x83Ã\\x82Ã\\x82Ã\\x83Ã\\x82Ã\\x82Ã\\xa0Ã\\x83Ã\\x83Ã\\x82Ã\\x82Ã\\x83Ã\\x82Ã\\x82ÃÂ´Ã\\x83Ã\\x83Ã\\x82Ã\\x83Ã\\x83Ã\\x82Ã\\x82ÃÂ£Ã\\x83Ã\\x83Ã\\x82Ã\\x82Ã\\x83Ã\\x82Ã\\x82Ã\\x81Ã\\x83Ã\\x83Ã\\x82Ã\\x82Ã\\x83Ã\\x82Ã\\x82ÃÂ¸Ã\\x83Ã\\x83Ã\\x82Ã\\x83Ã\\x83Ã\\x82Ã\\x82ÃÂ£Ã\\x83Ã\\x83Ã\\x82Ã\\x82Ã\\x83Ã\\x82Ã\\x82Ã\\x81Ã\\x83Ã\\x83Ã\\x82Ã\\x82Ã\\x83Ã\\x82Ã\\x82ÃÂ¨Ã\\x83Ã\\x83Ã\\x82Ã\\x83Ã\\x83Ã\\x82Ã\\x82ÃÂ¨Ã\\x83Ã\\x83Ã\\x82Ã\\x82Ã\\x83Ã\\x82Ã\\x82ÃÂ¡Ã\\x83Ã\\x83Ã\\x82Ã\\x82Ã\\x83Ã\\x82Ã\\x82ÃÂ£Ã\\x83Ã\\x83Ã\\x82Ã\\x83Ã\\x83Ã\\x82Ã\\x82ÃÂ¦Ã\\x83Ã\\x83Ã\\x82Ã\\x82Ã\\x83Ã\\x82Ã\\x82Ã\\x9bÃ\\x83Ã\\x83Ã\\x82Ã\\x82Ã\\x83Ã\\x82Ã\\x82ÃÂ¿Ã\\x83Ã\\x83Ã\\x82Ã\\x83Ã\\x83Ã\\x82Ã\\x82ÃÂ£Ã\\x83Ã\\x83Ã\\x82Ã\\x82Ã\\x83Ã\\x82Ã\\x82Ã\\x81Ã\\x83Ã\\x83Ã\\x82Ã\\x82Ã\\x83Ã\\x82Ã\\x82Ã\\x88Ã\\x83Ã\\x83Ã\\x82Ã\\x83Ã\\x83Ã\\x82Ã\\x82ÃÂ£Ã\\x83Ã\\x83Ã\\x82Ã\\x82Ã\\x83Ã\\x82Ã\\x82Ã\\x81Ã\\x83Ã\\x83Ã\\x82Ã\\x82Ã\\x83Ã\\x82Ã\\x82Ã\\x97Ã\\x83Ã\\x83Ã\\x82Ã\\x83Ã\\x83Ã\\x82Ã\\x82ÃÂ£Ã\\x83Ã\\x83Ã\\x82Ã\\x82Ã\\x83Ã\\x82Ã\\x82Ã\\x81Ã\\x83Ã\\x83Ã\\x82Ã\\x82Ã\\x83Ã\\x82Ã\\x82Ã\\x9fÃ\\x83Ã\\x83Ã\\x82Ã\\x83Ã\\x83Ã\\x82Ã\\x82ÃÂ£Ã\\x83Ã\\x83Ã\\x82Ã\\x82Ã\\x83Ã\\x82Ã\\x82Ã\\x80Ã\\x83Ã\\x83Ã\\x82Ã\\x82Ã\\x83Ã\\x82Ã\\x82Ã\\x82Ã\\x83Ã\\x83Ã\\x82Ã\\x83Ã\\x83Ã\\x82Ã\\x82ÃÂ£Ã\\x83Ã\\x83Ã\\x82Ã\\x82Ã\\x83Ã\\x82Ã\\x82Ã\\x81Ã\\x83Ã\\x83Ã\\x82Ã\\x82Ã\\x83Ã\\x82Ã\\x82Ã\\x9dÃ\\x83Ã\\x83Ã\\x82Ã\\x83Ã\\x83Ã\\x82Ã\\x82ÃÂ£Ã\\x83Ã\\x83Ã\\x82Ã\\x82Ã\\x83Ã\\x82Ã\\x82Ã\\x81Ã\\x83Ã\\x83Ã\\x82Ã\\x82Ã\\x83Ã\\x82Ã\\x82ÃÂ®Ã\\x83Ã\\x83Ã\\x82Ã\\x83Ã\\x83Ã\\x82Ã\\x82ÃÂ¤Ã\\x83Ã\\x83Ã\\x82Ã\\x82Ã\\x83Ã\\x82Ã\\x82ÃÂ¸Ã\\x83Ã\\x83Ã\\x82Ã\\x82Ã\\x83Ã\\x82Ã\\x82Ã\\xadÃ\\x83Ã\\x83Ã\\x82Ã\\x83Ã\\x83Ã\\x82Ã\\x82ÃÂ£Ã\\x83Ã\\x83Ã\\x82Ã\\x82Ã\\x83Ã\\x82Ã\\x82Ã\\x81Ã\\x83Ã\\x83Ã\\x82Ã\\x82Ã\\x83Ã\\x82Ã\\x82ÃÂ«Ã\\x83Ã\\x83Ã\\x82Ã\\x83Ã\\x83Ã\\x82Ã\\x82ÃÂ£Ã\\x83Ã\\x83Ã\\x82Ã\\x82Ã\\x83Ã\\x82Ã\\x82Ã\\x81Ã\\x83Ã\\x83Ã\\x82Ã\\x82Ã\\x83Ã\\x82Ã\\x82Ã\\x82Ã\\x83Ã\\x83Ã\\x82Ã\\x83Ã\\x83Ã\\x82Ã\\x82ÃÂ£Ã\\x83Ã\\x83Ã\\x82Ã\\x82Ã\\x83Ã\\x82Ã\\x82Ã\\x82Ã\\x83Ã\\x83Ã\\x82Ã\\x82Ã\\x83Ã\\x82Ã\\x82Ã\\x8bÃ\\x83Ã\\x83Ã\\x82Ã\\x83Ã\\x83Ã\\x82Ã\\x82ÃÂ£Ã\\x83Ã\\x83Ã\\x82Ã\\x82Ã\\x83Ã\\x82Ã\\x82Ã\\x82Ã\\x83Ã\\x83Ã\\x82Ã\\x82Ã\\x83Ã\\x82Ã\\x82ÃÂ«Ã\\x83Ã\\x83Ã\\x82Ã\\x83Ã\\x83Ã\\x82Ã\\x82ÃÂ£Ã\\x83Ã\\x83Ã\\x82Ã\\x82Ã\\x83Ã\\x82Ã\\x82Ã\\x83Ã\\x83Ã\\x83Ã\\x82Ã\\x82Ã\\x83Ã\\x82Ã\\x82Ã\\x95Ã\\x83Ã\\x83Ã\\x82Ã\\x83Ã\\x83Ã\\x82Ã\\x82ÃÂ£Ã\\x83Ã\\x83Ã\\x82Ã\\x82Ã\\x83Ã\\x82Ã\\x82Ã\\x82Ã\\x83Ã\\x83Ã\\x82Ã\\x82Ã\\x83Ã\\x82Ã\\x82ÃÂ§Ã\\x83Ã\\x83Ã\\x82Ã\\x83Ã\\x83Ã\\x82Ã\\x82ÃÂ£Ã\\x83Ã\\x83Ã\\x82Ã\\x82Ã\\x83Ã\\x82Ã\\x82Ã\\x81Ã\\x83Ã\\x83Ã\\x82Ã\\x82Ã\\x83Ã\\x82Ã\\x82ÃÂ§Ã\\x83Ã\\x83Ã\\x82Ã\\x83Ã\\x83Ã\\x82Ã\\x82ÃÂ£Ã\\x83Ã\\x83Ã\\x82Ã\\x82Ã\\x83Ã\\x82Ã\\x82Ã\\x81Ã\\x83Ã\\x83Ã\\x82Ã\\x82Ã\\x83Ã\\x82Ã\\x82ÃÂ¯Ã\\x83Ã\\x83Ã\\x82Ã\\x83Ã\\x83Ã\\x82Ã\\x82ÃÂ¥Ã\\x83Ã\\x83Ã\\x82Ã\\x82Ã\\x83Ã\\x82Ã\\x82Ã\\x90Ã\\x83Ã\\x83Ã\\x82Ã\\x82Ã\\x83Ã\\x82Ã\\x82Ã\\x8dÃ\\x83Ã\\x83Ã\\x82Ã\\x83Ã\\x83Ã\\x82Ã\\x82ÃÂ¥Ã\\x83Ã\\x83Ã\\x82Ã\\x82Ã\\x83Ã\\x82Ã\\x82ÃÂºÃ\\x83Ã\\x83Ã\\x82Ã\\x82Ã\\x83Ã\\x82Ã\\x82Ã\\x97Ã\\x83Ã\\x83Ã\\x82Ã\\x83Ã\\x83Ã\\x82Ã\\x82ÃÂ£Ã\\x83Ã\\x83Ã\\x82Ã\\x82Ã\\x83Ã\\x82Ã\\x82Ã\\x81Ã\\x83Ã\\x83Ã\\x82Ã\\x82Ã\\x83Ã\\x82Ã\\x82ÃÂ®Ã\\x83Ã\\x83Ã\\x82Ã\\x83Ã\\x83Ã\\x82Ã\\x82ÃÂ¥Ã\\x83Ã\\x83Ã\\x82Ã\\x82Ã\\x83Ã\\x82Ã\\x82Ã\\x90Ã\\x83Ã\\x83Ã\\x82Ã\\x82Ã\\x83Ã\\x82Ã\\x82Ã\\x8cÃ\\x83Ã\\x83Ã\\x82Ã\\x83Ã\\x83Ã\\x82Ã\\x82ÃÂ¥Ã\\x83Ã\\x83Ã\\x82Ã\\x82Ã\\x83Ã\\x82Ã\\x82ÃÂºÃ\\x83Ã\\x83Ã\\x82Ã\\x82Ã\\x83Ã\\x82Ã\\x82Ã\\x97Ã\\x83Ã\\x83Ã\\x82Ã\\x83Ã\\x83Ã\\x82Ã\\x82ÃÂ£Ã\\x83Ã\\x83Ã\\x82Ã\\x82Ã\\x83Ã\\x82Ã\\x82Ã\\x80Ã\\x83Ã\\x83Ã\\x82Ã\\x82Ã\\x83Ã\\x82Ã\\x82Ã\\x82Ã\\x83Ã\\x83Ã\\x82Ã\\x83Ã\\x83Ã\\x82Ã\\x82ÃÂ£Ã\\x83Ã\\x83Ã\\x82Ã\\x82Ã\\x83Ã\\x82Ã\\x82Ã\\x82Ã\\x83Ã\\x83Ã\\x82Ã\\x82Ã\\x83Ã\\x82Ã\\x82ÃÂ³Ã\\x83Ã\\x83Ã\\x82Ã\\x83Ã\\x83Ã\\x82Ã\\x82ÃÂ£Ã\\x83Ã\\x83Ã\\x82Ã\\x82Ã\\x83Ã\\x82Ã\\x82Ã\\x83Ã\\x83Ã\\x83Ã\\x82Ã\\x82Ã\\x83Ã\\x82Ã\\x82ÃÂ¼Ã\\x83Ã\\x83Ã\\x82Ã\\x83Ã\\x83Ã\\x82Ã\\x82ÃÂ£Ã\\x83Ã\\x83Ã\\x82Ã\\x82Ã\\x83Ã\\x82Ã\\x82Ã\\x83Ã\\x83Ã\\x83Ã\\x82Ã\\x82Ã\\x83Ã\\x82Ã\\x82Ã\\x92Ã\\x83Ã\\x83Ã\\x82Ã\\x83Ã\\x83Ã\\x82Ã\\x82ÃÂ£Ã\\x83Ã\\x83Ã\\x82Ã\\x82Ã\\x83Ã\\x82Ã\\x82Ã\\x83Ã\\x83Ã\\x83Ã\\x82Ã\\x82Ã\\x83Ã\\x82Ã\\x82ÃÂ¼Ã\\x83Ã\\x83Ã\\x82Ã\\x83Ã\\x83Ã\\x82Ã\\x82ÃÂ£Ã\\x83Ã\\x83Ã\\x82Ã\\x82Ã\\x83Ã\\x82Ã\\x82Ã\\x81Ã\\x83Ã\\x83Ã\\x82Ã\\x82Ã\\x83Ã\\x82Ã\\x82ÃÂ®Ã\\x83Ã\\x83Ã\\x82Ã\\x83Ã\\x83Ã\\x82Ã\\x82ÃÂ§Ã\\x83Ã\\x83Ã\\x82Ã\\x82Ã\\x83Ã\\x82Ã\\x82ÃÂ¨Ã\\x83Ã\\x83Ã\\x82Ã\\x82Ã\\x83Ã\\x82Ã\\x82ÃÂ®Ã\\x83Ã\\x83Ã\\x82Ã\\x83Ã\\x83Ã\\x82Ã\\x82ÃÂ©Ã\\x83Ã\\x83Ã\\x82Ã\\x82Ã\\x83Ã\\x82Ã\\x82ÃÂ¡Ã\\x83Ã\\x83Ã\\x82Ã\\x82Ã\\x83Ã\\x82Ã\\x82Ã\\x9eÃ\\x83Ã\\x83Ã\\x82Ã\\x83Ã\\x83Ã\\x82Ã\\x82ÃÂ£Ã\\x83Ã\\x83Ã\\x82Ã\\x82Ã\\x83Ã\\x82Ã\\x82Ã\\x81Ã\\x83Ã\\x83Ã\\x82Ã\\x82Ã\\x83Ã\\x82Ã\\x82Ã\\x8cÃ\\x83Ã\\x83Ã\\x82Ã\\x83Ã\\x83Ã\\x82Ã\\x82ÃÂ£Ã\\x83Ã\\x83Ã\\x82Ã\\x82Ã\\x83Ã\\x82Ã\\x82Ã\\x81Ã\\x83Ã\\x83Ã\\x82Ã\\x82Ã\\x83Ã\\x82Ã\\x82Ã\\x8bÃ\\x83Ã\\x83Ã\\x82Ã\\x83Ã\\x83Ã\\x82Ã\\x82ÃÂ£Ã\\x83Ã\\x83Ã\\x82Ã\\x82Ã\\x83Ã\\x82Ã\\x82Ã\\x81Ã\\x83Ã\\x83Ã\\x82Ã\\x82Ã\\x83Ã\\x82Ã\\x82ÃÂªÃ\\x83Ã\\x83Ã\\x82Ã\\x83Ã\\x83Ã\\x82Ã\\x82ÃÂ£Ã\\x83Ã\\x83Ã\\x82Ã\\x82Ã\\x83Ã\\x82Ã\\x82Ã\\x82Ã\\x83Ã\\x83Ã\\x82Ã\\x82Ã\\x83Ã\\x82Ã\\x82Ã\\x8aÃ\\x83Ã\\x83Ã\\x82Ã\\x83Ã\\x83Ã\\x82Ã\\x82ÃÂ¨Ã\\x83Ã\\x83Ã\\x82Ã\\x82Ã\\x83Ã\\x82Ã\\x82ÃÂ±Ã\\x83Ã\\x83Ã\\x82Ã\\x82Ã\\x83Ã\\x82Ã\\x82Ã\\x8aÃ\\x83Ã\\x83Ã\\x82Ã\\x83Ã\\x83Ã\\x82Ã\\x82ÃÂ¥Ã\\x83Ã\\x83Ã\\x82Ã\\x82Ã\\x83Ã\\x82Ã\\x82ÃÂ¯Ã\\x83Ã\\x83Ã\\x82Ã\\x82Ã\\x83Ã\\x82Ã\\x82Ã\\x8cÃ\\x83Ã\\x83Ã\\x82Ã\\x83Ã\\x83Ã\\x82Ã\\x82ÃÂ£Ã\\x83Ã\\x83Ã\\x82Ã\\x82Ã\\x83Ã\\x82Ã\\x82Ã\\x81Ã\\x83Ã\\x83Ã\\x82Ã\\x82Ã\\x83Ã\\x82Ã\\x82ÃÂªÃ\\x83Ã\\x83Ã\\x82Ã\\x83Ã\\x83Ã\\x82Ã\\x82ÃÂ£Ã\\x83Ã\\x83Ã\\x82Ã\\x82Ã\\x83Ã\\x82Ã\\x82Ã\\x81Ã\\x83Ã\\x83Ã\\x82Ã\\x82Ã\\x83Ã\\x82Ã\\x82ÃÂ®Ã\\x83Ã\\x83Ã\\x82Ã\\x83Ã\\x83Ã\\x82Ã\\x82ÃÂ£Ã\\x83Ã\\x83Ã\\x82Ã\\x82Ã\\x83Ã\\x82Ã\\x82Ã\\x81Ã\\x83Ã\\x83Ã\\x82Ã\\x82Ã\\x83Ã\\x82Ã\\x82ÃÂ¯Ã\\x83Ã\\x83Ã\\x82Ã\\x83Ã\\x83Ã\\x82Ã\\x82ÃÂ£Ã\\x83Ã\\x83Ã\\x82Ã\\x82Ã\\x83Ã\\x82Ã\\x82Ã\\x81Ã\\x83Ã\\x83Ã\\x82Ã\\x82Ã\\x83Ã\\x82Ã\\x82Ã\\x93Ã\\x83Ã\\x83Ã\\x82Ã\\x83Ã\\x83Ã\\x82Ã\\x82ÃÂ£Ã\\x83Ã\\x83Ã\\x82Ã\\x82Ã\\x83Ã\\x82Ã\\x82Ã\\x81Ã\\x83Ã\\x83Ã\\x82Ã\\x82Ã\\x83Ã\\x82Ã\\x82ÃÂ¡Ã\\x83Ã\\x83Ã\\x82Ã\\x83Ã\\x83Ã\\x82Ã\\x82ÃÂ£Ã\\x83Ã\\x83Ã\\x82Ã\\x82Ã\\x83Ã\\x82Ã\\x82Ã\\x82Ã\\x83Ã\\x83Ã\\x82Ã\\x82Ã\\x83Ã\\x82Ã\\x82Ã\\x89Ã\\x83Ã\\x83Ã\\x82Ã\\x83Ã\\x83Ã\\x82Ã\\x82ÃÂ£Ã\\x83Ã\\x83Ã\\x82Ã\\x82Ã\\x83Ã\\x82Ã\\x82Ã\\x82Ã\\x83Ã\\x83Ã\\x82Ã\\x82Ã\\x83Ã\\x82Ã\\x82Ã\\x82Ã\\x83Ã\\x83Ã\\x82Ã\\x83Ã\\x83Ã\\x82Ã\\x82ÃÂ¤Ã\\x83Ã\\x83Ã\\x82Ã\\x82Ã\\x83Ã\\x82Ã\\x82ÃÂ»Ã\\x83Ã\\x83Ã\\x82Ã\\x82Ã\\x83Ã\\x82Ã\\x82Ã\\x96Ã\\x83Ã\\x83Ã\\x82Ã\\x83Ã\\x83Ã\\x82Ã\\x82ÃÂ£Ã\\x83Ã\\x83Ã\\x82Ã\\x82Ã\\x83Ã\\x82Ã\\x82Ã\\x81Ã\\x83Ã\\x83Ã\\x82Ã\\x82Ã\\x83Ã\\x82Ã\\x82ÃÂ®Ã\\x83Ã\\x83Ã\\x82Ã\\x83Ã\\x83Ã\\x82Ã\\x82ÃÂ£Ã\\x83Ã\\x83Ã\\x82Ã\\x82Ã\\x83Ã\\x82Ã\\x82Ã\\x81Ã\\x83Ã\\x83Ã\\x82Ã\\x82Ã\\x83Ã\\x82Ã\\x82Ã\\x8aÃ\\x83Ã\\x83Ã\\x82Ã\\x83Ã\\x83Ã\\x82Ã\\x82ÃÂ¥Ã\\x83Ã\\x83Ã\\x82Ã\\x82Ã\\x83Ã\\x82Ã\\x82ÃÂºÃ\\x83Ã\\x83Ã\\x82Ã\\x82Ã\\x83Ã\\x82Ã\\x82Ã\\x97Ã\\x83Ã\\x83Ã\\x82Ã\\x83Ã\\x83Ã\\x82Ã\\x82ÃÂ£Ã\\x83Ã\\x83Ã\\x82Ã\\x82Ã\\x83Ã\\x82Ã\\x82Ã\\x81Ã\\x83Ã\\x83Ã\\x82Ã\\x82Ã\\x83Ã\\x82Ã\\x82ÃÂ¨Ã\\x83Ã\\x83Ã\\x82Ã\\x83Ã\\x83Ã\\x82Ã\\x82ÃÂ¥Ã\\x83Ã\\x83Ã\\x82Ã\\x82Ã\\x83Ã\\x82Ã\\x82Ã\\x90Ã\\x83Ã\\x83Ã\\x82Ã\\x82Ã\\x83Ã\\x82Ã\\x82Ã\\x8cÃ\\x83Ã\\x83Ã\\x82Ã\\x83Ã\\x83Ã\\x82Ã\\x82ÃÂ£Ã\\x83Ã\\x83Ã\\x82Ã\\x82Ã\\x83Ã\\x82Ã\\x82Ã\\x81Ã\\x83Ã\\x83Ã\\x82Ã\\x82Ã\\x83Ã\\x82Ã\\x82Ã\\x98Ã\\x83Ã\\x83Ã\\x82Ã\\x83Ã\\x83Ã\\x82Ã\\x82ÃÂ£Ã\\x83Ã\\x83Ã\\x82Ã\\x82Ã\\x83Ã\\x82Ã\\x82Ã\\x80Ã\\x83Ã\\x83Ã\\x82Ã\\x82Ã\\x83Ã\\x82Ã\\x82Ã\\x82Ã\\x83Ã\\x83Ã\\x82Ã\\x83Ã\\x83Ã\\x82Ã\\x82ÃÂ¨Ã\\x83Ã\\x83Ã\\x82Ã\\x82Ã\\x83Ã\\x82Ã\\x82ÃÂ»Ã\\x83Ã\\x83Ã\\x82Ã\\x82Ã\\x83Ã\\x82Ã\\x82ÃÂ½Ã\\x83Ã\\x83Ã\\x82Ã\\x83Ã\\x83Ã\\x82Ã\\x82ÃÂ£Ã\\x83Ã\\x83Ã\\x82Ã\\x82Ã\\x83Ã\\x82Ã\\x82Ã\\x81Ã\\x83Ã\\x83Ã\\x82Ã\\x82Ã\\x83Ã\\x82Ã\\x82Ã\\x84Ã\\x83Ã\\x83Ã\\x82Ã\\x83Ã\\x83Ã\\x82Ã\\x82ÃÂ¨Ã\\x83Ã\\x83Ã\\x82Ã\\x82Ã\\x83Ã\\x82Ã\\x82ÃÂ»Ã\\x83Ã\\x83Ã\\x82Ã\\x82Ã\\x83Ã\\x82Ã\\x82ÃÂ½Ã\\x83Ã\\x83Ã\\x82Ã\\x83Ã\\x83Ã\\x82Ã\\x82ÃÂ©Ã\\x83Ã\\x83Ã\\x82Ã\\x82Ã\\x83Ã\\x82Ã\\x82ÃÂ£Ã\\x83Ã\\x83Ã\\x82Ã\\x82Ã\\x83Ã\\x82Ã\\x82Ã\\x9fÃ\\x83Ã\\x83Ã\\x82Ã\\x83Ã\\x83Ã\\x82Ã\\x82ÃÂ£Ã\\x83Ã\\x83Ã\\x82Ã\\x82Ã\\x83Ã\\x82Ã\\x82Ã\\x82Ã\\x83Ã\\x83Ã\\x82Ã\\x82Ã\\x83Ã\\x82Ã\\x82Ã\\x82Ã\\x83Ã\\x83Ã\\x82Ã\\x83Ã\\x83Ã\\x82Ã\\x82ÃÂ§Ã\\x83Ã\\x83Ã\\x82Ã\\x82Ã\\x83Ã\\x82Ã\\x82Ã\\x94Ã\\x83Ã\\x83Ã\\x82Ã\\x82Ã\\x83Ã\\x82Ã\\x82ÃÂ¨Ã\\x83Ã\\x83Ã\\x82Ã\\x83Ã\\x83Ã\\x82Ã\\x82ÃÂ¦Ã\\x83Ã\\x83Ã\\x82Ã\\x82Ã\\x83Ã\\x82Ã\\x82Ã\\x84Ã\\x83Ã\\x83Ã\\x82Ã\\x82Ã\\x83Ã\\x82Ã\\x82Ã\\x8fÃ\\x83Ã\\x83Ã\\x82Ã\\x83Ã\\x83Ã\\x82Ã\\x82ÃÂ£Ã\\x83Ã\\x83Ã\\x82Ã\\x82Ã\\x83Ã\\x82Ã\\x82Ã\\x81Ã\\x83Ã\\x83Ã\\x82Ã\\x82Ã\\x83Ã\\x82Ã\\x82Ã\\x95Ã\\x83Ã\\x83Ã\\x82Ã\\x83Ã\\x83Ã\\x82Ã\\x82ÃÂ£Ã\\x83Ã\\x83Ã\\x82Ã\\x82Ã\\x83Ã\\x82Ã\\x82Ã\\x82Ã\\x83Ã\\x83Ã\\x82Ã\\x82Ã\\x83Ã\\x82Ã\\x82Ã\\x8cÃ\\x83Ã\\x83Ã\\x82Ã\\x83Ã\\x83Ã\\x82Ã\\x82ÃÂ£Ã\\x83Ã\\x83Ã\\x82Ã\\x82Ã\\x83Ã\\x82Ã\\x82Ã\\x81Ã\\x83Ã\\x83Ã\\x82Ã\\x82Ã\\x83Ã\\x82Ã\\x82ÃÂ¦Ã\\x83Ã\\x83Ã\\x82Ã\\x83Ã\\x83Ã\\x82Ã\\x82ÃÂ£Ã\\x83Ã\\x83Ã\\x82Ã\\x82Ã\\x83Ã\\x82Ã\\x82Ã\\x81Ã\\x83Ã\\x83Ã\\x82Ã\\x82Ã\\x83Ã\\x82Ã\\x82Ã\\x84Ã\\x83Ã\\x83Ã\\x82Ã\\x83Ã\\x83Ã\\x82Ã\\x82ÃÂ£Ã\\x83Ã\\x83Ã\\x82Ã\\x82Ã\\x83Ã\\x82Ã\\x82Ã\\x82Ã\\x83Ã\\x83Ã\\x82Ã\\x82Ã\\x83Ã\\x82Ã\\x82Ã\\x8bÃ\\x83Ã\\x83Ã\\x82Ã\\x83Ã\\x83Ã\\x82Ã\\x82ÃÂ£Ã\\x83Ã\\x83Ã\\x82Ã\\x82Ã\\x83Ã\\x82Ã\\x82Ã\\x80Ã\\x83Ã\\x83Ã\\x82Ã\\x82Ã\\x83Ã\\x82Ã\\x82Ã\\x82Ã\\x83Ã\\x83Ã\\x82Ã\\x83Ã\\x83Ã\\x82Ã\\x82ÃÂ¥Ã\\x83Ã\\x83Ã\\x82Ã\\x82Ã\\x83Ã\\x82Ã\\x82ÃÂ¤Ã\\x83Ã\\x83Ã\\x82Ã\\x82Ã\\x83Ã\\x82Ã\\x82Ã\\x96Ã\\x83Ã\\x83Ã\\x82Ã\\x83Ã\\x83Ã\\x82Ã\\x82ÃÂ¥Ã\\x83Ã\\x83Ã\\x82Ã\\x82Ã\\x83Ã\\x82Ã\\x82ÃÂ¸Ã\\x83Ã\\x83Ã\\x82Ã\\x82Ã\\x83Ã\\x82Ã\\x82Ã\\xadÃ\\x83Ã\\x83Ã\\x82Ã\\x83Ã\\x83Ã\\x82Ã\\x82ÃÂ£Ã\\x83Ã\\x83Ã\\x82Ã\\x82Ã\\x83Ã\\x82Ã\\x82Ã\\x82Ã\\x83Ã\\x83Ã\\x82Ã\\x82Ã\\x83Ã\\x82Ã\\x82Ã\\x82Ã\\x83Ã\\x83Ã\\x82Ã\\x83Ã\\x83Ã\\x82Ã\\x82ÃÂ§Ã\\x83Ã\\x83Ã\\x82Ã\\x82Ã\\x83Ã\\x82Ã\\x82Ã\\x94Ã\\x83Ã\\x83Ã\\x82Ã\\x82Ã\\x83Ã\\x82Ã\\x82ÃÂ¨Ã\\x83Ã\\x83Ã\\x82Ã\\x83Ã\\x83Ã\\x82Ã\\x82ÃÂ¦Ã\\x83Ã\\x83Ã\\x82Ã\\x82Ã\\x83Ã\\x82Ã\\x82Ã\\x84Ã\\x83Ã\\x83Ã\\x82Ã\\x82Ã\\x83Ã\\x82Ã\\x82Ã\\x8fÃ\\x83Ã\\x83Ã\\x82Ã\\x83Ã\\x83Ã\\x82Ã\\x82ÃÂ£Ã\\x83Ã\\x83Ã\\x82Ã\\x82Ã\\x83Ã\\x82Ã\\x82Ã\\x81Ã\\x83Ã\\x83Ã\\x82Ã\\x82Ã\\x83Ã\\x82Ã\\x82Ã\\x95Ã\\x83Ã\\x83Ã\\x82Ã\\x83Ã\\x83Ã\\x82Ã\\x82ÃÂ£Ã\\x83Ã\\x83Ã\\x82Ã\\x82Ã\\x83Ã\\x82Ã\\x82Ã\\x82Ã\\x83Ã\\x83Ã\\x82Ã\\x82Ã\\x83Ã\\x82Ã\\x82Ã\\x8cÃ\\x83Ã\\x83Ã\\x82Ã\\x83Ã\\x83Ã\\x82Ã\\x82ÃÂ£Ã\\x83Ã\\x83Ã\\x82Ã\\x82Ã\\x83Ã\\x82Ã\\x82Ã\\x81Ã\\x83Ã\\x83Ã\\x82Ã\\x82Ã\\x83Ã\\x82Ã\\x82ÃÂ¦Ã\\x83Ã\\x83Ã\\x82Ã\\x83Ã\\x83Ã\\x82Ã\\x82ÃÂ£Ã\\x83Ã\\x83Ã\\x82Ã\\x82Ã\\x83Ã\\x82Ã\\x82Ã\\x81Ã\\x83Ã\\x83Ã\\x82Ã\\x82Ã\\x83Ã\\x82Ã\\x82Ã\\x84Ã\\x83Ã\\x83Ã\\x82Ã\\x83Ã\\x83Ã\\x82Ã\\x82ÃÂ£Ã\\x83Ã\\x83Ã\\x82Ã\\x82Ã\\x83Ã\\x82Ã\\x82Ã\\x82Ã\\x83Ã\\x83Ã\\x82Ã\\x82Ã\\x83Ã\\x82Ã\\x82Ã\\x8bÃ\\x83Ã\\x83Ã\\x82Ã\\x83Ã\\x83Ã\\x82Ã\\x82ÃÂ£Ã\\x83Ã\\x83Ã\\x82Ã\\x82Ã\\x83Ã\\x82Ã\\x82Ã\\x81Ã\\x83Ã\\x83Ã\\x82Ã\\x82Ã\\x83Ã\\x82Ã\\x82Ã\\x8cÃ\\x83Ã\\x83Ã\\x82Ã\\x83Ã\\x83Ã\\x82Ã\\x82ÃÂ£Ã\\x83Ã\\x83Ã\\x82Ã\\x82Ã\\x83Ã\\x82Ã\\x82Ã\\x80Ã\\x83Ã\\x83Ã\\x82Ã\\x82Ã\\x83Ã\\x82Ã\\x82Ã\\x81Ã\\x83Ã\\x83Ã\\x82Ã\\x83Ã\\x83Ã\\x82Ã\\x82ÃÂ¥Ã\\x83Ã\\x83Ã\\x82Ã\\x82Ã\\x83Ã\\x82Ã\\x82ÃÂ±Ã\\x83Ã\\x83Ã\\x82Ã\\x82Ã\\x83Ã\\x82Ã\\x82Ã\\x8bÃ\\x83Ã\\x83Ã\\x82Ã\\x83Ã\\x83Ã\\x82Ã\\x82ÃÂ¥Ã\\x83Ã\\x83Ã\\x82Ã\\x82Ã\\x83Ã\\x82Ã\\x82Ã\\x86Ã\\x83Ã\\x83Ã\\x82Ã\\x82Ã\\x83Ã\\x82Ã\\x82Ã\\x85Ã\\x83Ã\\x83Ã\\x82Ã\\x83Ã\\x83Ã\\x82Ã\\x82ÃÂ£Ã\\x83Ã\\x83Ã\\x82Ã\\x82Ã\\x83Ã\\x82Ã\\x82Ã\\x81Ã\\x83Ã\\x83Ã\\x82Ã\\x82Ã\\x83Ã\\x82Ã\\x82ÃÂ§Ã\\x83Ã\\x83Ã\\x82Ã\\x83Ã\\x83Ã\\x82Ã\\x82ÃÂ£Ã\\x83Ã\\x83Ã\\x82Ã\\x82Ã\\x83Ã\\x82Ã\\x82Ã\\x82Ã\\x83Ã\\x83Ã\\x82Ã\\x82Ã\\x83Ã\\x82Ã\\x82ÃÂµÃ\\x83Ã\\x83Ã\\x82Ã\\x83Ã\\x83Ã\\x82Ã\\x82ÃÂ£Ã\\x83Ã\\x83Ã\\x82Ã\\x82Ã\\x83Ã\\x82Ã\\x82Ã\\x83Ã\\x83Ã\\x83Ã\\x82Ã\\x82Ã\\x83Ã\\x82Ã\\x82Ã\\xa0Ã\\x83Ã\\x83Ã\\x82Ã\\x83Ã\\x83Ã\\x82Ã\\x82ÃÂ£Ã\\x83Ã\\x83Ã\\x82Ã\\x82Ã\\x83Ã\\x82Ã\\x82Ã\\x82Ã\\x83Ã\\x83Ã\\x82Ã\\x82Ã\\x83Ã\\x82Ã\\x82ÃÂ½Ã\\x83Ã\\x83Ã\\x82Ã\\x83Ã\\x83Ã\\x82Ã\\x82ÃÂ£Ã\\x83Ã\\x83Ã\\x82Ã\\x82Ã\\x83Ã\\x82Ã\\x82Ã\\x83Ã\\x83Ã\\x83Ã\\x82Ã\\x82Ã\\x83Ã\\x82Ã\\x82ÃÂ³Ã\\x83Ã\\x83Ã\\x82Ã\\x83Ã\\x83Ã\\x82Ã\\x82ÃÂ£Ã\\x83Ã\\x83Ã\\x82Ã\\x82Ã\\x83Ã\\x82Ã\\x82Ã\\x81Ã\\x83Ã\\x83Ã\\x82Ã\\x82Ã\\x83Ã\\x82Ã\\x82ÃÂ®Ã\\x83Ã\\x83Ã\\x82Ã\\x83Ã\\x83Ã\\x82Ã\\x82ÃÂ¥Ã\\x83Ã\\x83Ã\\x82Ã\\x82Ã\\x83Ã\\x82Ã\\x82Ã\\x95Ã\\x83Ã\\x83Ã\\x82Ã\\x82Ã\\x83Ã\\x82Ã\\x82Ã\\x86Ã\\x83Ã\\x83Ã\\x82Ã\\x83Ã\\x83Ã\\x82Ã\\x82ÃÂ¥Ã\\x83Ã\\x83Ã\\x82Ã\\x82Ã\\x83Ã\\x82Ã\\x82Ã\\x93Ã\\x83Ã\\x83Ã\\x82Ã\\x82Ã\\x83Ã\\x82Ã\\x82Ã\\x81Ã\\x83Ã\\x83Ã\\x82Ã\\x83Ã\\x83Ã\\x82Ã\\x82ÃÂ§Ã\\x83Ã\\x83Ã\\x82Ã\\x82Ã\\x83Ã\\x82Ã\\x82ÃÂ¾Ã\\x83Ã\\x83Ã\\x82Ã\\x82Ã\\x83Ã\\x82Ã\\x82ÃÂ¤Ã\\x83Ã\\x83Ã\\x82Ã\\x83Ã\\x83Ã\\x82Ã\\x82ÃÂ£Ã\\x83Ã\\x83Ã\\x82Ã\\x82Ã\\x83Ã\\x82Ã\\x82Ã\\x82Ã\\x83Ã\\x83Ã\\x82Ã\\x82Ã\\x83Ã\\x82Ã\\x82Ã\\x92Ã\\x83Ã\\x83Ã\\x82Ã\\x83Ã\\x83Ã\\x82Ã\\x82ÃÂ¨Ã\\x83Ã\\x83Ã\\x82Ã\\x82Ã\\x83Ã\\x82Ã\\x82ÃÂ¦Ã\\x83Ã\\x83Ã\\x82Ã\\x82Ã\\x83Ã\\x82Ã\\x82Ã\\x8bÃ\\x83Ã\\x83Ã\\x82Ã\\x83Ã\\x83Ã\\x82Ã\\x82ÃÂ£Ã\\x83Ã\\x83Ã\\x82Ã\\x82Ã\\x83Ã\\x82Ã\\x82Ã\\x81Ã\\x83Ã\\x83Ã\\x82Ã\\x82Ã\\x83Ã\\x82Ã\\x82ÃÂªÃ\\x83Ã\\x83Ã\\x82Ã\\x83Ã\\x83Ã\\x82Ã\\x82ÃÂ£Ã\\x83Ã\\x83Ã\\x82Ã\\x82Ã\\x83Ã\\x82Ã\\x82Ã\\x81Ã\\x83Ã\\x83Ã\\x82Ã\\x82Ã\\x83Ã\\x82Ã\\x82Ã\\x8cÃ\\x83Ã\\x83Ã\\x82Ã\\x83Ã\\x83Ã\\x82Ã\\x82ÃÂ£Ã\\x83Ã\\x83Ã\\x82Ã\\x82Ã\\x83Ã\\x82Ã\\x82Ã\\x82Ã\\x83Ã\\x83Ã\\x82Ã\\x82Ã\\x83Ã\\x82Ã\\x82Ã\\x89Ã\\x83Ã\\x83Ã\\x82Ã\\x83Ã\\x83Ã\\x82Ã\\x82ÃÂ£Ã\\x83Ã\\x83Ã\\x82Ã\\x82Ã\\x83Ã\\x82Ã\\x82Ã\\x81Ã\\x83Ã\\x83Ã\\x82Ã\\x82Ã\\x83Ã\\x82Ã\\x82ÃÂ®Ã\\x83Ã\\x83Ã\\x82Ã\\x83Ã\\x83Ã\\x82Ã\\x82ÃÂ¥Ã\\x83Ã\\x83Ã\\x82Ã\\x82Ã\\x83Ã\\x82Ã\\x82Ã\\x96Ã\\x83Ã\\x83Ã\\x82Ã\\x82Ã\\x83Ã\\x82Ã\\x82ÃÂ«Ã\\x83Ã\\x83Ã\\x82Ã\\x83Ã\\x83Ã\\x82Ã\\x82ÃÂ¨Ã\\x83Ã\\x83Ã\\x82Ã\\x82Ã\\x83Ã\\x82Ã\\x82Ã\\x8cÃ\\x83Ã\\x83Ã\\x82Ã\\x82Ã\\x83Ã\\x82Ã\\x82ÃÂ¶Ã\\x83Ã\\x83Ã\\x82Ã\\x83Ã\\x83Ã\\x82Ã\\x82ÃÂ£Ã\\x83Ã\\x83Ã\\x82Ã\\x82Ã\\x83Ã\\x82Ã\\x82Ã\\x81Ã\\x83Ã\\x83Ã\\x82Ã\\x82Ã\\x83Ã\\x82Ã\\x82Ã\\x8cÃ\\x83Ã\\x83Ã\\x82Ã\\x83Ã\\x83Ã\\x82Ã\\x82ÃÂ£Ã\\x83Ã\\x83Ã\\x82Ã\\x82Ã\\x83Ã\\x82Ã\\x82Ã\\x81Ã\\x83Ã\\x83Ã\\x82Ã\\x82Ã\\x83Ã\\x82Ã\\x82Ã\\x8aÃ\\x83Ã\\x83Ã\\x82Ã\\x83Ã\\x83Ã\\x82Ã\\x82ÃÂ£Ã\\x83Ã\\x83Ã\\x82Ã\\x82Ã\\x83Ã\\x82Ã\\x82Ã\\x82Ã\\x83Ã\\x83Ã\\x82Ã\\x82Ã\\x83Ã\\x82Ã\\x82ÃÂ¹Ã\\x83Ã\\x83Ã\\x82Ã\\x83Ã\\x83Ã\\x82Ã\\x82ÃÂ£Ã\\x83Ã\\x83Ã\\x82Ã\\x82Ã\\x83Ã\\x82Ã\\x82Ã\\x82Ã\\x83Ã\\x83Ã\\x82Ã\\x82Ã\\x83Ã\\x82Ã\\x82ÃÂ¹Ã\\x83Ã\\x83Ã\\x82Ã\\x83Ã\\x83Ã\\x82Ã\\x82ÃÂ£Ã\\x83Ã\\x83Ã\\x82Ã\\x82Ã\\x83Ã\\x82Ã\\x82Ã\\x83Ã\\x83Ã\\x83Ã\\x82Ã\\x82Ã\\x83Ã\\x82Ã\\x82ÃÂ¡Ã\\x83Ã\\x83Ã\\x82Ã\\x83Ã\\x83Ã\\x82Ã\\x82ÃÂ£Ã\\x83Ã\\x83Ã\\x82Ã\\x82Ã\\x83Ã\\x82Ã\\x82Ã\\x80Ã\\x83Ã\\x83Ã\\x82Ã\\x82Ã\\x83Ã\\x82Ã\\x82Ã\\x82Ã\\x83Ã\\x83Ã\\x82Ã\\x83Ã\\x83Ã\\x82Ã\\x82ÃÂ¥Ã\\x83Ã\\x83Ã\\x82Ã\\x82Ã\\x83Ã\\x82Ã\\x82Ã\\x96Ã\\x83Ã\\x83Ã\\x82Ã\\x82Ã\\x83Ã\\x82Ã\\x82ÃÂ§Ã\\x83Ã\\x83Ã\\x82Ã\\x83Ã\\x83Ã\\x82Ã\\x82ÃÂ©Ã\\x83Ã\\x83Ã\\x82Ã\\x82Ã\\x83Ã\\x82Ã\\x82ÃÂ¨Ã\\x83Ã\\x83Ã\\x82Ã\\x82Ã\\x83Ã\\x82Ã\\x82Ã\\x92Ã\\x83Ã\\x83Ã\\x82Ã\\x83Ã\\x83Ã\\x82Ã\\x82ÃÂ£Ã\\x83Ã\\x83Ã\\x82Ã\\x82Ã\\x83Ã\\x82Ã\\x82Ã\\x81Ã\\x83Ã\\x83Ã\\x82Ã\\x82Ã\\x83Ã\\x82Ã\\x82ÃÂªÃ\\x83Ã\\x83Ã\\x82Ã\\x83Ã\\x83Ã\\x82Ã\\x82ÃÂ¥Ã\\x83Ã\\x83Ã\\x82Ã\\x82Ã\\x83Ã\\x82Ã\\x82ÃÂ¤Ã\\x83Ã\\x83Ã\\x82Ã\\x82Ã\\x83Ã\\x82Ã\\x82Ã\\x96Ã\\x83Ã\\x83Ã\\x82Ã\\x83Ã\\x83Ã\\x82Ã\\x82ÃÂ£Ã\\x83Ã\\x83Ã\\x82Ã\\x82Ã\\x83Ã\\x82Ã\\x82Ã\\x81Ã\\x83Ã\\x83Ã\\x82Ã\\x82Ã\\x83Ã\\x82Ã\\x82ÃÂ¨Ã\\x83Ã\\x83Ã\\x82Ã\\x83Ã\\x83Ã\\x82Ã\\x82ÃÂ£Ã\\x83Ã\\x83Ã\\x82Ã\\x82Ã\\x83Ã\\x82Ã\\x82Ã\\x81Ã\\x83Ã\\x83Ã\\x82Ã\\x82Ã\\x83Ã\\x82Ã\\x82ÃÂ®Ã\\x83Ã\\x83Ã\\x82Ã\\x83Ã\\x83Ã\\x82Ã\\x82ÃÂ¥Ã\\x83Ã\\x83Ã\\x82Ã\\x82Ã\\x83Ã\\x82Ã\\x82ÃÂ¯Ã\\x83Ã\\x83Ã\\x82Ã\\x82Ã\\x83Ã\\x82Ã\\x82ÃÂ¾Ã\\x83Ã\\x83Ã\\x82Ã\\x83Ã\\x83Ã\\x82Ã\\x82ÃÂ¦Ã\\x83Ã\\x83Ã\\x82Ã\\x82Ã\\x83Ã\\x82Ã\\x82ÃÂ¯Ã\\x83Ã\\x83Ã\\x82Ã\\x82Ã\\x83Ã\\x82Ã\\x82Ã\\x94Ã\\x83Ã\\x83Ã\\x82Ã\\x83Ã\\x83Ã\\x82Ã\\x82ÃÂ£Ã\\x83Ã\\x83Ã\\x82Ã\\x82Ã\\x83Ã\\x82Ã\\x82Ã\\x81Ã\\x83Ã\\x83Ã\\x82Ã\\x82Ã\\x83Ã\\x82Ã\\x82Ã\\x8cÃ\\x83Ã\\x83Ã\\x82Ã\\x83Ã\\x83Ã\\x82Ã\\x82ÃÂ¥Ã\\x83Ã\\x83Ã\\x82Ã\\x82Ã\\x83Ã\\x82Ã\\x82Ã\\x91Ã\\x83Ã\\x83Ã\\x82Ã\\x82Ã\\x83Ã\\x82Ã\\x82ÃÂ³Ã\\x83Ã\\x83Ã\\x82Ã\\x83Ã\\x83Ã\\x82Ã\\x82ÃÂ£Ã\\x83Ã\\x83Ã\\x82Ã\\x82Ã\\x83Ã\\x82Ã\\x82Ã\\x82Ã\\x83Ã\\x83Ã\\x82Ã\\x82Ã\\x83Ã\\x82Ã\\x82Ã\\x8fÃ\\x83Ã\\x83Ã\\x82Ã\\x83Ã\\x83Ã\\x82Ã\\x82ÃÂ£Ã\\x83Ã\\x83Ã\\x82Ã\\x82Ã\\x83Ã\\x82Ã\\x82Ã\\x81Ã\\x83Ã\\x83Ã\\x82Ã\\x82Ã\\x83Ã\\x82Ã\\x82Ã\\x84Ã\\x83Ã\\x83Ã\\x82Ã\\x83Ã\\x83Ã\\x82Ã\\x82ÃÂ¦Ã\\x83Ã\\x83Ã\\x82Ã\\x82Ã\\x83Ã\\x82Ã\\x82ÃÂ·Ã\\x83Ã\\x83Ã\\x82Ã\\x82Ã\\x83Ã\\x82Ã\\x82ÃÂ±Ã\\x83Ã\\x83Ã\\x82Ã\\x83Ã\\x83Ã\\x82Ã\\x82ÃÂ£Ã\\x83Ã\\x83Ã\\x82Ã\\x82Ã\\x83Ã\\x82Ã\\x82Ã\\x81Ã\\x83Ã\\x83Ã\\x82Ã\\x82Ã\\x83Ã\\x82Ã\\x82Ã\\x84Ã\\x83Ã\\x83Ã\\x82Ã\\x83Ã\\x83Ã\\x82Ã\\x82ÃÂ£Ã\\x83Ã\\x83Ã\\x82Ã\\x82Ã\\x83Ã\\x82Ã\\x82Ã\\x80Ã\\x83Ã\\x83Ã\\x82Ã\\x82Ã\\x83Ã\\x82Ã\\x82Ã\\x82'), ('Rated 4.0', \"RATED\\n  Absolutely love them from their Koramangala days, they moving to brigade road is a blessing (considering they are in a big place now - Samsung Opera House). You shouldn't miss this place for two reasons - Food and coffee.\\nThey have an amazing line of coffee, I love the fact this it unconventionally authentic for both Indian filter coffee lovers and the traditional starbucks/CCD hoppers. My favourite being their unique Cold brew with Tonic.\\nTalking about food - Never miss their Italian food, pastas especially their spaghetti with white sauce or pesto. And boy o boy, their burgers are absolute love.\\nAnd special mention to the people working there (especially Isaac), they exemplify quality customer service.\\n\\n\\nMy Recommendations - \\n\\nCold Brew with Tonic\\nAromatique Americano\\nNutella Milkshake\\nToffee Milkshake\\nChicken/Beef Burger\\nNon-Veg Pasta (White sauce/Pesto)\\nSalad\"), ('Rated 4.0', 'RATED\\n  Absolutely love flying coffee chain of cafes in Bengaluru. The one in MG road is located inside of the Samsung opera house, with limited seating. Try their Panama coffee with some cookies to go with it. Must try for all coffee lovers!\\n\\nfoodforlife24x7.blogspot.com')]\n",
      "\n",
      "================================================================================\n",
      "\n",
      "--- INSPECTING ROW 26851 ---\n",
      "\n",
      "[ADDRESS]\n",
      "140/C, 15th Main, Opposite Chinmaya School, Koramangala 4th Block, Bangalore\n",
      "\n",
      "[REVIEWS_LIST]\n",
      "[('Rated 5.0', 'RATED\\n  One of the Best Cupcakes ever I had, couple of my friends got me customised cake from kormangala bite me shop, it was yummy and fluffy. My favourite cup cake was Red Velvet cup cake and Butterscotch cup cake ?'), ('Rated 5.0', 'RATED\\n  Just order some pancakes, nd I loved them. A nice place to have desserts and enjoy quality time with great quality desserts nd food. I am buying more from here.'), ('Rated 3.0', 'RATED\\n  We ordered cupcakes at office. Mini cupcakes. Nicely decorated (icing and frosting). Beautifully packed. Well-delivered without the frosting messed up. Taste was okay. Nice flavors. Good quality.'), ('Rated 3.0', \"RATED\\n  I recently ordered some butterscotch cupcakes. It was really good, but I had better cupcakes already in some other places. Packing was actually pretty decent, it really liked it.\\nOverall this was my first order, so I can't be so sure about this place. Shall try more and update my review in future.\\nAll the Best, Thank you\"), ('Rated 5.0', 'RATED\\n  Everything written on their cupcake box is true. They are fresh and soft and would melt in your mouth. They?re the perfect birthday surprise for someone since they let you customise photo cupcakes with your own pictures. There?s nothing as sweet as that.'), ('Rated 5.0', 'RATED\\n  I got 6 cupcakes delivered. The packing was done well.\\nEach one of them was so soft & tasty.\\nI had -\\nTriple chocolate\\nBlueberry\\nRed velvet\\nButterscotch\\nTiramisu\\nCookies and cream\\n\\nI also find the price very economic compared to the quality of the cakes.'), ('Rated 2.0', 'RATED\\n  A tiny place with good variety of buttercream cupcakes. I had been searching for good buttercream frosting cupcakes and bite me was one I found. Buttercream frosting is my favourite, and there aren?t many places in Banglore for that.\\nSo the service is very good, the tiny cakes looked pretty and the packing is great and innovative.\\nMy one and only problem was that the butter in the buttercream frosting tasted odd. Not fresh.\\nAnd the taste of the colour was also high.\\nMaybe it was the temperature yesterday. I hope the next time I try it would be different.\\nAnd yeah it was for my birthday. So was really disappointed.')]\n",
      "\n",
      "================================================================================\n",
      "\n",
      "--- INSPECTING ROW 48442 ---\n",
      "\n",
      "[ADDRESS]\n",
      "10, Sampangi Tank Road, Richmond Road, Bangalore\n",
      "\n",
      "[REVIEWS_LIST]\n",
      "[('Rated 4.0', \"RATED\\n  I had heard about this place a million times from every friend of mine who eats non veg. I thought they were just creating hype. Today I could finally go try this place for my self and to be honest it was worth the hype.\\U0001f92f The food was finger licking good(yes a KFC reference cause Kentucky fried chicken Ã\\x83Ã\\x83Ã\\x82Ã\\x83Ã\\x83Ã\\x82Ã\\x82ÃÂ°Ã\\x83Ã\\x83Ã\\x82Ã\\x82Ã\\x83Ã\\x82Ã\\x82Ã\\x9fÃ\\x83Ã\\x83Ã\\x82Ã\\x82Ã\\x83Ã\\x82Ã\\x82Ã\\x98Ã\\x83Ã\\x83Ã\\x82Ã\\x82Ã\\x83Ã\\x82Ã\\x82Ã\\x9d) if you are a true non veg lover and a dosa lover this is a place for you to visit. If you don't like standing on the road and eating you, can eat from your car but the food here is something you shouldn't miss.\\nMy review\\nFood 4/5\\nService 3.5/5\\nPrice for 2 200-400\"), ('Rated 4.0', \"RATED\\n  Kentacky chicken corner on Richmond road is a very famous food point for every non vegetarian lover. But vegetarians can also have there too.\\n\\nFood - I have tasted the fluffy dosa with green and red chutney and dosa being very thick and tasty. The best thing about this place is that it has car service and also when you have the dosa here with the red chutney I am sure you would want your water bottle next to you since its that spicy and tasty. I would always go just to have a quick bite of dosa and also this place is crowded on Saturday and Sunday night's. It's just right next to ramanashree and opposite to itc gardenia.\\n\\nFood - 4/5\\nService - 4/5\\nPrice - 4/5\\n\\nHappy fooding.\")]\n",
      "\n",
      "================================================================================\n",
      "\n"
     ]
    }
   ],
   "source": [
    "# Inspect the long-text columns for 3 random rows\n",
    "for index in df_raw.sample(3).index:\n",
    "    print(f\"--- INSPECTING ROW {index} ---\")\n",
    "\n",
    "    print(\"\\n[ADDRESS]\")\n",
    "    print(df_raw.loc[index, \"address\"])\n",
    "\n",
    "    print(\"\\n[REVIEWS_LIST]\")\n",
    "    print(df_raw.loc[index, \"reviews_list\"])\n",
    "\n",
    "    print(\"\\n\" + \"=\" * 80 + \"\\n\")"
   ]
  },
  {
   "cell_type": "markdown",
   "id": "487aa564-0faa-47fd-9385-7fa8548edf58",
   "metadata": {},
   "source": [
    "---\n",
    "## **Initial Column-by-Column Analysis & Cleaning Strategy**\n",
    "\n",
    "Based on the initial `.info()`, `.head()`, and `.describe()` calls, here is a detailed breakdown of each feature and the proposed cleaning plan.\n",
    "\n",
    "1.  **`url`, `address`, `phone`:**\n",
    "    -   **Observation:** These columns contain unique, specific information (URLs, street addresses, phone numbers) that is unlikely to have predictive power for a general model. The location data is better captured in the `location` column.\n",
    "    -   **Plan:** 🎯 Drop these three columns as they are not useful for modeling.\n",
    "\n",
    "2.  **`name`:**\n",
    "    -   **Observation:** This is the restaurant's name. While most are unique, the `.describe()` output shows high frequency for chains like 'Cafe Coffee Day', indicating a \"chain\" feature might be valuable.\n",
    "    -   **Plan:** 💡 Keep for now, we also need to fix encoding issues in this also. We can later engineer a feature to identify if a restaurant is part of a chain.\n",
    "\n",
    "3.  **`online_order`, `book_table`:**\n",
    "    -   **Observation:** Simple binary categorical features stored as \"Yes\"/\"No\" strings.\n",
    "    -   **Plan:** 🧹 Convert these to binary integers (`1` for Yes, `0` for No) for easier analysis and modeling.\n",
    "\n",
    "4.  **`rate`:**\n",
    "    -   **Observation:** This is our primary target variable, but it's in a messy state. It's an `object` type (e.g., \"4.1/5\"), contains `NaN` values, and has special string values like \"NEW\".\n",
    "    -   **Plan:** 🧹 This requires significant cleaning. The steps will be:\n",
    "        1.  Handle the \"NEW\" entries (perhaps by converting them to `NaN` or a specific numeric value like 0).\n",
    "        2.  Remove the \"/5\" suffix.\n",
    "        3.  Convert the column to a numeric (float) type.\n",
    "        4.  Develop a strategy to impute the remaining `NaN` values.\n",
    "\n",
    "5.  **`votes`:**\n",
    "    -   **Observation:** A clean `int64` column representing the number of votes. It is highly correlated with the `rate`.\n",
    "    -   **Plan:** ✅ No cleaning needed. This will be a very important feature.\n",
    "\n",
    "6.  **`location`, `listed_in(city)`:**\n",
    "    -   **Observation:** Both are key categorical features representing the restaurant's area. They seem related but might have different levels of granularity. `listed_in(city)` appears to be a broader neighborhood category used by Zomato.\n",
    "    -   **Plan:** 💡 Investigate the relationship between these two columns. Clean them by checking for and consolidating similar names (e.g., \"BTM Layout\" vs. \"BTM\").\n",
    "\n",
    "7.  **`rest_type`, `listed_in(type)`:**\n",
    "    -   **Observation:** Similar to the location columns, these represent the type of restaurant. `rest_type` seems more specific, while `listed_in(type)` is a broader Zomato category (e.g., \"Delivery,\" \"Dine-out\").\n",
    "    -   **Plan:** 💡 Analyze the relationship and potential redundancy. Clean `rest_type` by grouping rare categories.\n",
    "\n",
    "8.  **`cuisines`, `dish_liked`:**\n",
    "    -   **Observation:** These are complex, multi-value text fields. `dish_liked` has over 50% missing data, which is a major issue. `cuisines` is more complete.\n",
    "    -   **Plan:** 💡 These are prime candidates for NLP and feature engineering. For now, we will clean them. The plan for `dish_liked` is uncertain; we may have to drop it due to the high number of missing values.\n",
    "\n",
    "9.  **`approx_cost(for two people)`:**\n",
    "    -   **Observation:** This is a crucial feature but is incorrectly typed as `object` due to commas in the numbers (e.g., \"1,200\"). It also contains `NaN` values.\n",
    "    -   **Plan:** 🧹 Clean this by removing commas and converting it to a numeric type. Impute missing values, likely with the median.\n",
    "\n",
    "10. **`reviews_list`:**\n",
    "    -   **Observation:** This column contains a list of tuples, with each tuple holding the rating and the full text of a review. This is a goldmine of unstructured text data.\n",
    "    -   **Plan:** 💡 In a later notebook, we will fix the encoding issues and then parse this column to extract features like review sentiment, review length, and keywords. For now, we'll leave it as is.\n",
    "\n",
    "11. **`menu_item`:**\n",
    "    -   **Observation:** The vast majority of entries in this column are empty lists (`[]`).\n",
    "    -   **Plan:** 🎯 This column appears to have very little useful information. The initial plan is to drop it."
   ]
  },
  {
   "cell_type": "code",
   "execution_count": null,
   "id": "84db9a11-578a-463e-a225-b17ed1ea753e",
   "metadata": {},
   "outputs": [],
   "source": []
  }
 ],
 "metadata": {
  "kernelspec": {
   "display_name": "Python 3 (ipykernel)",
   "language": "python",
   "name": "python3"
  },
  "language_info": {
   "codemirror_mode": {
    "name": "ipython",
    "version": 3
   },
   "file_extension": ".py",
   "mimetype": "text/x-python",
   "name": "python",
   "nbconvert_exporter": "python",
   "pygments_lexer": "ipython3",
   "version": "3.10.18"
  }
 },
 "nbformat": 4,
 "nbformat_minor": 5
}
